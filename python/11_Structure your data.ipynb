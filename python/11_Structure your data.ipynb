{
 "cells": [
  {
   "cell_type": "markdown",
   "metadata": {
    "id": "1WD1hC5MTRMS"
   },
   "source": [
    "# Activity: Structure your data "
   ]
  },
  {
   "cell_type": "markdown",
   "metadata": {
    "id": "ee31943b-274e-4c28-bce6-155cb6f4c334"
   },
   "source": [
    "## Introduction\n",
    "\n",
    "In this activity, you will practice structuring, an **exploratory data analysis (EDA)** step that helps data science projects move forward. During EDA, when working with data that contains aspects of date and time, \"datetime\" transformations are integral to better understanding the data. As a data professional, you will encounter datetime transformations quite often as you determine how to format your data to suit the problems you want to solve or the questions you want to answer. This activity gives you an opportunity to apply these skills and prepare you for future EDA, where you will need to determine how best to structure your data.\n",
    "\n",
    "In this activity, you are a member of an analytics team that provides insights to an investing firm. To help them decide which companies to invest in next, the firm wants insights into **unicorn companies**–companies that are valued at over one billion dollars.  \n",
    "\n",
    "You will work with a dataset about unicorn companies, discovering characteristics of the data, structuring the data in ways that will help you draw meaningful insights, and using visualizations to analyze the data. Ultimately, you will draw conclusions about what significant trends or patterns you find in the dataset. This will develop your skills in EDA and your knowledge of functions that allow you to structure data.\n",
    "\n",
    "\n",
    "\n"
   ]
  },
  {
   "cell_type": "markdown",
   "metadata": {
    "id": "4bb9630e-b940-4835-a389-d39def1fa848"
   },
   "source": [
    "## Step 1: Imports "
   ]
  },
  {
   "cell_type": "markdown",
   "metadata": {
    "id": "bc180686-4ae2-47ea-a292-3588ac60a820"
   },
   "source": [
    "### Import relevant libraries and modules\n",
    "\n",
    "Import the relevant Python libraries and modules that you will need to use. In this activity, you will use `pandas`, `numpy`, `seaborn`, and `matplotlib.pyplot`."
   ]
  },
  {
   "cell_type": "code",
   "execution_count": 1,
   "metadata": {
    "id": "8e7f1f2c-bbcc-4f3c-b927-b090ee8334c4"
   },
   "outputs": [],
   "source": [
    "# Import the relevant Python libraries and modules needed in this lab.\n",
    "\n",
    "### YOUR CODE HERE ###\n",
    "import pandas as pd\n",
    "import numpy as np\n",
    "import matplotlib.pyplot as plt\n",
    "import seaborn as sns\n",
    "import datetime"
   ]
  },
  {
   "cell_type": "markdown",
   "metadata": {
    "id": "7d29c6bd-f194-46bb-b794-56dc20130473"
   },
   "source": [
    "### Load the dataset into a DataFrame\n",
    "\n",
    "The dataset provided is in the form of a csv file named `Unicorn_Companies.csv` and contains a subset of data on unicorn companies. As shown in this cell, the dataset has been automatically loaded in for you. You do not need to download the .csv file, or provide more code, in order to access the dataset and proceed with this lab. Please continue with this activity by completing the following instructions."
   ]
  },
  {
   "cell_type": "code",
   "execution_count": 2,
   "metadata": {
    "id": "3bd40d44-080f-4e49-b0c2-160dedc3c4df"
   },
   "outputs": [],
   "source": [
    "# RUN THIS CELL TO IMPORT YOUR DATA.\n",
    "\n",
    "### YOUR CODE HERE ###\n",
    "companies = pd.read_csv(\"Unicorn_Companies.csv\")"
   ]
  },
  {
   "cell_type": "markdown",
   "metadata": {
    "id": "95bf39c9-d05c-4324-a40b-bc692607b61b"
   },
   "source": [
    "## Step 2: Data exploration\n"
   ]
  },
  {
   "cell_type": "markdown",
   "metadata": {
    "id": "pEeiG2M76OLH"
   },
   "source": [
    "### Display the first 10 rows of the data\n",
    "\n",
    "In this section, you will discover what the dataset entails and answer questions to guide your exploration and analysis of the data. This is an important step in EDA. \n",
    "\n",
    "To begin, display the first 10 rows of the data to get an understanding of how the dataset is structured. "
   ]
  },
  {
   "cell_type": "code",
   "execution_count": 3,
   "metadata": {
    "id": "ad5210a5-7a64-4991-b004-de818cfaf506"
   },
   "outputs": [
    {
     "data": {
      "text/html": [
       "<div>\n",
       "<style scoped>\n",
       "    .dataframe tbody tr th:only-of-type {\n",
       "        vertical-align: middle;\n",
       "    }\n",
       "\n",
       "    .dataframe tbody tr th {\n",
       "        vertical-align: top;\n",
       "    }\n",
       "\n",
       "    .dataframe thead th {\n",
       "        text-align: right;\n",
       "    }\n",
       "</style>\n",
       "<table border=\"1\" class=\"dataframe\">\n",
       "  <thead>\n",
       "    <tr style=\"text-align: right;\">\n",
       "      <th></th>\n",
       "      <th>Company</th>\n",
       "      <th>Valuation</th>\n",
       "      <th>Date Joined</th>\n",
       "      <th>Industry</th>\n",
       "      <th>City</th>\n",
       "      <th>Country/Region</th>\n",
       "      <th>Continent</th>\n",
       "      <th>Year Founded</th>\n",
       "      <th>Funding</th>\n",
       "      <th>Select Investors</th>\n",
       "    </tr>\n",
       "  </thead>\n",
       "  <tbody>\n",
       "    <tr>\n",
       "      <th>0</th>\n",
       "      <td>Bytedance</td>\n",
       "      <td>$180B</td>\n",
       "      <td>4/7/17</td>\n",
       "      <td>Artificial intelligence</td>\n",
       "      <td>Beijing</td>\n",
       "      <td>China</td>\n",
       "      <td>Asia</td>\n",
       "      <td>2012</td>\n",
       "      <td>$8B</td>\n",
       "      <td>Sequoia Capital China, SIG Asia Investments, S...</td>\n",
       "    </tr>\n",
       "    <tr>\n",
       "      <th>1</th>\n",
       "      <td>SpaceX</td>\n",
       "      <td>$100B</td>\n",
       "      <td>12/1/12</td>\n",
       "      <td>Other</td>\n",
       "      <td>Hawthorne</td>\n",
       "      <td>United States</td>\n",
       "      <td>North America</td>\n",
       "      <td>2002</td>\n",
       "      <td>$7B</td>\n",
       "      <td>Founders Fund, Draper Fisher Jurvetson, Rothen...</td>\n",
       "    </tr>\n",
       "    <tr>\n",
       "      <th>2</th>\n",
       "      <td>SHEIN</td>\n",
       "      <td>$100B</td>\n",
       "      <td>7/3/18</td>\n",
       "      <td>E-commerce &amp; direct-to-consumer</td>\n",
       "      <td>Shenzhen</td>\n",
       "      <td>China</td>\n",
       "      <td>Asia</td>\n",
       "      <td>2008</td>\n",
       "      <td>$2B</td>\n",
       "      <td>Tiger Global Management, Sequoia Capital China...</td>\n",
       "    </tr>\n",
       "    <tr>\n",
       "      <th>3</th>\n",
       "      <td>Stripe</td>\n",
       "      <td>$95B</td>\n",
       "      <td>1/23/14</td>\n",
       "      <td>Fintech</td>\n",
       "      <td>San Francisco</td>\n",
       "      <td>United States</td>\n",
       "      <td>North America</td>\n",
       "      <td>2010</td>\n",
       "      <td>$2B</td>\n",
       "      <td>Khosla Ventures, LowercaseCapital, capitalG</td>\n",
       "    </tr>\n",
       "    <tr>\n",
       "      <th>4</th>\n",
       "      <td>Klarna</td>\n",
       "      <td>$46B</td>\n",
       "      <td>12/12/11</td>\n",
       "      <td>Fintech</td>\n",
       "      <td>Stockholm</td>\n",
       "      <td>Sweden</td>\n",
       "      <td>Europe</td>\n",
       "      <td>2005</td>\n",
       "      <td>$4B</td>\n",
       "      <td>Institutional Venture Partners, Sequoia Capita...</td>\n",
       "    </tr>\n",
       "    <tr>\n",
       "      <th>5</th>\n",
       "      <td>Canva</td>\n",
       "      <td>$40B</td>\n",
       "      <td>1/8/18</td>\n",
       "      <td>Internet software &amp; services</td>\n",
       "      <td>Surry Hills</td>\n",
       "      <td>Australia</td>\n",
       "      <td>Oceania</td>\n",
       "      <td>2012</td>\n",
       "      <td>$572M</td>\n",
       "      <td>Sequoia Capital China, Blackbird Ventures, Mat...</td>\n",
       "    </tr>\n",
       "    <tr>\n",
       "      <th>6</th>\n",
       "      <td>Checkout.com</td>\n",
       "      <td>$40B</td>\n",
       "      <td>5/2/19</td>\n",
       "      <td>Fintech</td>\n",
       "      <td>London</td>\n",
       "      <td>United Kingdom</td>\n",
       "      <td>Europe</td>\n",
       "      <td>2012</td>\n",
       "      <td>$2B</td>\n",
       "      <td>Tiger Global Management, Insight Partners, DST...</td>\n",
       "    </tr>\n",
       "    <tr>\n",
       "      <th>7</th>\n",
       "      <td>Instacart</td>\n",
       "      <td>$39B</td>\n",
       "      <td>12/30/14</td>\n",
       "      <td>Supply chain, logistics, &amp; delivery</td>\n",
       "      <td>San Francisco</td>\n",
       "      <td>United States</td>\n",
       "      <td>North America</td>\n",
       "      <td>2012</td>\n",
       "      <td>$3B</td>\n",
       "      <td>Khosla Ventures, Kleiner Perkins Caufield &amp; By...</td>\n",
       "    </tr>\n",
       "    <tr>\n",
       "      <th>8</th>\n",
       "      <td>JUUL Labs</td>\n",
       "      <td>$38B</td>\n",
       "      <td>12/20/17</td>\n",
       "      <td>Consumer &amp; retail</td>\n",
       "      <td>San Francisco</td>\n",
       "      <td>United States</td>\n",
       "      <td>North America</td>\n",
       "      <td>2015</td>\n",
       "      <td>$14B</td>\n",
       "      <td>Tiger Global Management</td>\n",
       "    </tr>\n",
       "    <tr>\n",
       "      <th>9</th>\n",
       "      <td>Databricks</td>\n",
       "      <td>$38B</td>\n",
       "      <td>2/5/19</td>\n",
       "      <td>Data management &amp; analytics</td>\n",
       "      <td>San Francisco</td>\n",
       "      <td>United States</td>\n",
       "      <td>North America</td>\n",
       "      <td>2013</td>\n",
       "      <td>$3B</td>\n",
       "      <td>Andreessen Horowitz, New Enterprise Associates...</td>\n",
       "    </tr>\n",
       "  </tbody>\n",
       "</table>\n",
       "</div>"
      ],
      "text/plain": [
       "        Company Valuation Date Joined                             Industry  \\\n",
       "0     Bytedance     $180B      4/7/17              Artificial intelligence   \n",
       "1        SpaceX     $100B     12/1/12                                Other   \n",
       "2         SHEIN     $100B      7/3/18      E-commerce & direct-to-consumer   \n",
       "3        Stripe      $95B     1/23/14                              Fintech   \n",
       "4        Klarna      $46B    12/12/11                              Fintech   \n",
       "5         Canva      $40B      1/8/18         Internet software & services   \n",
       "6  Checkout.com      $40B      5/2/19                              Fintech   \n",
       "7     Instacart      $39B    12/30/14  Supply chain, logistics, & delivery   \n",
       "8     JUUL Labs      $38B    12/20/17                    Consumer & retail   \n",
       "9    Databricks      $38B      2/5/19          Data management & analytics   \n",
       "\n",
       "            City  Country/Region      Continent  Year Founded Funding  \\\n",
       "0        Beijing           China           Asia          2012     $8B   \n",
       "1      Hawthorne   United States  North America          2002     $7B   \n",
       "2       Shenzhen           China           Asia          2008     $2B   \n",
       "3  San Francisco   United States  North America          2010     $2B   \n",
       "4      Stockholm          Sweden         Europe          2005     $4B   \n",
       "5    Surry Hills       Australia        Oceania          2012   $572M   \n",
       "6         London  United Kingdom         Europe          2012     $2B   \n",
       "7  San Francisco   United States  North America          2012     $3B   \n",
       "8  San Francisco   United States  North America          2015    $14B   \n",
       "9  San Francisco   United States  North America          2013     $3B   \n",
       "\n",
       "                                    Select Investors  \n",
       "0  Sequoia Capital China, SIG Asia Investments, S...  \n",
       "1  Founders Fund, Draper Fisher Jurvetson, Rothen...  \n",
       "2  Tiger Global Management, Sequoia Capital China...  \n",
       "3        Khosla Ventures, LowercaseCapital, capitalG  \n",
       "4  Institutional Venture Partners, Sequoia Capita...  \n",
       "5  Sequoia Capital China, Blackbird Ventures, Mat...  \n",
       "6  Tiger Global Management, Insight Partners, DST...  \n",
       "7  Khosla Ventures, Kleiner Perkins Caufield & By...  \n",
       "8                            Tiger Global Management  \n",
       "9  Andreessen Horowitz, New Enterprise Associates...  "
      ]
     },
     "execution_count": 3,
     "metadata": {},
     "output_type": "execute_result"
    }
   ],
   "source": [
    "# Display the first 10 rows of the data.\n",
    "\n",
    "### YOUR CODE HERE ###\n",
    "\n",
    "companies.head(10)"
   ]
  },
  {
   "cell_type": "markdown",
   "metadata": {
    "id": "49881dfd-4532-424f-9729-f5378d984df0",
    "jp-MarkdownHeadingCollapsed": true,
    "tags": []
   },
   "source": [
    "<details>\n",
    "  <summary><h4><strong>Hint 1</strong></h4></summary>\n",
    "\n",
    "Refer to [the content about exploratory data analysis in Python](https://www.coursera.org/learn/go-beyond-the-numbers-translate-data-into-insight/lecture/kfl9b/find-stories-using-the-six-exploratory-data-analysis-practices).\n",
    "\n",
    "</details>"
   ]
  },
  {
   "cell_type": "markdown",
   "metadata": {
    "id": "k2QxFOi9HW1Q",
    "jp-MarkdownHeadingCollapsed": true,
    "tags": []
   },
   "source": [
    "<details>\n",
    "  <summary><h4><strong>Hint 2</strong></h4></summary>\n",
    "\n",
    "Use the function in the `pandas` library that allows you to get a specific number of rows from the top of a DataFrame.\n",
    " \n",
    "\n",
    "</details>"
   ]
  },
  {
   "cell_type": "markdown",
   "metadata": {
    "id": "ptkclWFzHjHv",
    "jp-MarkdownHeadingCollapsed": true,
    "tags": []
   },
   "source": [
    "<details>\n",
    "  <summary><h4><strong>Hint 3</strong></h4></summary>\n",
    "\n",
    "  Call the `head()` function from the `pandas` library and pass in the number of rows you want from the top of the DataFrame.\n",
    "\n",
    "</details>"
   ]
  },
  {
   "cell_type": "markdown",
   "metadata": {
    "id": "e31095a6-5526-42d3-b1c0-b77c1f8b3852"
   },
   "source": [
    "### Identify the number of rows and columns\n",
    "\n",
    "Identify the number of rows and columns in the dataset. This will help you get a sense of how much data you are working with."
   ]
  },
  {
   "cell_type": "code",
   "execution_count": 4,
   "metadata": {
    "id": "df3c71a1-2519-4c50-86c2-63902a534d27"
   },
   "outputs": [
    {
     "data": {
      "text/plain": [
       "(1074, 10)"
      ]
     },
     "execution_count": 4,
     "metadata": {},
     "output_type": "execute_result"
    }
   ],
   "source": [
    "# Identify the number of rows and columns in the dataset.\n",
    "\n",
    "### YOUR CODE HERE ###\n",
    "\n",
    "companies.shape"
   ]
  },
  {
   "cell_type": "markdown",
   "metadata": {
    "id": "-BS8MzFiu2hD",
    "jp-MarkdownHeadingCollapsed": true,
    "tags": []
   },
   "source": [
    "<details>\n",
    "  <summary><h4><strong>Hint 1</strong></h4></summary>\n",
    "\n",
    "Refer to [the content about exploratory data analysis in Python](https://www.coursera.org/learn/go-beyond-the-numbers-translate-data-into-insight/lecture/kfl9b/find-stories-using-the-six-exploratory-data-analysis-practices).\n",
    "\n",
    "</details>"
   ]
  },
  {
   "cell_type": "markdown",
   "metadata": {
    "id": "WtQIWoeMu2hE",
    "jp-MarkdownHeadingCollapsed": true,
    "tags": []
   },
   "source": [
    "<details>\n",
    "  <summary><h4><strong>Hint 2</strong></h4></summary>\n",
    "\n",
    "Use the property that DataFrames in `pandas` have to display the number of rows and the number of columns as a tuple.\n",
    " \n",
    "\n",
    "</details>"
   ]
  },
  {
   "cell_type": "markdown",
   "metadata": {
    "id": "f0cMU_Mqu2hF",
    "jp-MarkdownHeadingCollapsed": true,
    "tags": []
   },
   "source": [
    "<details>\n",
    "  <summary><h4><strong>Hint 3</strong></h4></summary>\n",
    "\n",
    "The `shape` property that DataFrames have can help.\n",
    "\n",
    "</details>"
   ]
  },
  {
   "cell_type": "markdown",
   "metadata": {
    "id": "4c2998a8-f864-43eb-a2d5-64845ebc805c"
   },
   "source": [
    "**Question:** How many rows and columns are in the dataset? How many unicorn companies are there? How many aspects are shown for each company?\n"
   ]
  },
  {
   "cell_type": "markdown",
   "metadata": {
    "id": "I814R8oVz0f8"
   },
   "source": [
    "1074 rows and 10 columns"
   ]
  },
  {
   "cell_type": "markdown",
   "metadata": {
    "id": "H_ot-KEQ_YAH"
   },
   "source": [
    "### Check for duplicates in the data"
   ]
  },
  {
   "cell_type": "code",
   "execution_count": 5,
   "metadata": {
    "id": "3eT0fgc__MY9"
   },
   "outputs": [
    {
     "data": {
      "text/plain": [
       "(1074, 10)"
      ]
     },
     "execution_count": 5,
     "metadata": {},
     "output_type": "execute_result"
    }
   ],
   "source": [
    "# Check for duplicates.\n",
    "\n",
    "### YOUR CODE HERE ###\n",
    "companies.drop_duplicates().shape"
   ]
  },
  {
   "cell_type": "markdown",
   "metadata": {
    "id": "5XLziTHPAZkn",
    "jp-MarkdownHeadingCollapsed": true,
    "tags": []
   },
   "source": [
    "<details>\n",
    "  <summary><h4><strong>Hint 1</strong></h4></summary>\n",
    "\n",
    "Refer to [the content about exploratory data analysis in Python](https://www.coursera.org/learn/go-beyond-the-numbers-translate-data-into-insight/lecture/kfl9b/find-stories-using-the-six-exploratory-data-analysis-practices).\n",
    "\n",
    "</details>"
   ]
  },
  {
   "cell_type": "markdown",
   "metadata": {
    "id": "zYuUTbHgAZkp",
    "jp-MarkdownHeadingCollapsed": true,
    "tags": []
   },
   "source": [
    "<details>\n",
    "  <summary><h4><strong>Hint 2</strong></h4></summary>\n",
    "\n",
    "Use the function in `pandas` that can be called on a DataFrame to return the same DataFrame but with duplicates removed.\n",
    "\n",
    "Use property that DataFrames in `pandas` have that to display the number of rows and columns as a tuple.\n",
    " \n",
    "</details>"
   ]
  },
  {
   "cell_type": "markdown",
   "metadata": {
    "id": "oi-zzNBGAZkp",
    "jp-MarkdownHeadingCollapsed": true,
    "tags": []
   },
   "source": [
    "<details>\n",
    "  <summary><h4><strong>Hint 3</strong></h4></summary>\n",
    "\n",
    "Call the `drop_duplicates()` function on `companies`, followed by calling the `shape` property. \n",
    "\n",
    "Compare the shape that is returned from this to the original shape of `companies`, which you identified previously. \n",
    "\n",
    "</details>"
   ]
  },
  {
   "cell_type": "markdown",
   "metadata": {
    "id": "-6S3zT-l_ydL"
   },
   "source": [
    "**Question:** Based on the preceding output, are there any duplicates in the dataset?\n"
   ]
  },
  {
   "cell_type": "markdown",
   "metadata": {
    "id": "QqXNXWRQz1mh"
   },
   "source": [
    "No Duplicates ecist as the shape is same"
   ]
  },
  {
   "cell_type": "markdown",
   "metadata": {
    "id": "fgD6IfeBsNW8"
   },
   "source": [
    "### Display the data types of the columns \n",
    "\n",
    "Knowing the data types of the columns is helpful because it indicates what types of analysis and aggregation can be done, how a column can be transformed to suit specific tasks, and so on. Display the data types of the columns. "
   ]
  },
  {
   "cell_type": "code",
   "execution_count": 6,
   "metadata": {
    "id": "PjO2hGK2r8vN"
   },
   "outputs": [
    {
     "data": {
      "text/plain": [
       "Company             object\n",
       "Valuation           object\n",
       "Date Joined         object\n",
       "Industry            object\n",
       "City                object\n",
       "Country/Region      object\n",
       "Continent           object\n",
       "Year Founded         int64\n",
       "Funding             object\n",
       "Select Investors    object\n",
       "dtype: object"
      ]
     },
     "execution_count": 6,
     "metadata": {},
     "output_type": "execute_result"
    }
   ],
   "source": [
    "# Display the data types of the columns.\n",
    "\n",
    "### YOUR CODE HERE ###\n",
    "\n",
    "companies.dtypes"
   ]
  },
  {
   "cell_type": "markdown",
   "metadata": {
    "id": "rDrbzQlhkB5F",
    "jp-MarkdownHeadingCollapsed": true,
    "tags": []
   },
   "source": [
    "<details>\n",
    "  <summary><h4><strong>Hint 1</strong></h4></summary>\n",
    "\n",
    "Refer to [the content about exploratory data analysis in Python](https://www.coursera.org/learn/go-beyond-the-numbers-translate-data-into-insight/lecture/kfl9b/find-stories-using-the-six-exploratory-data-analysis-practices).\n",
    "\n",
    "</details>"
   ]
  },
  {
   "cell_type": "markdown",
   "metadata": {
    "id": "iBciSHO2kB5H",
    "jp-MarkdownHeadingCollapsed": true,
    "tags": []
   },
   "source": [
    "<details>\n",
    "  <summary><h4><strong>Hint 2</strong></h4></summary>\n",
    "\n",
    "Use the property that DataFrames in `pandas` have to display the data types of the columns in the specified DataFrame.\n",
    " \n",
    "\n",
    "</details>"
   ]
  },
  {
   "cell_type": "markdown",
   "metadata": {
    "id": "kyq_H95zkB5I",
    "jp-MarkdownHeadingCollapsed": true,
    "tags": []
   },
   "source": [
    "<details>\n",
    "  <summary><h4><strong>Hint 3</strong></h4></summary>\n",
    "\n",
    "The `dtypes` property that DataFrames have can help.\n",
    "\n",
    "</details>"
   ]
  },
  {
   "cell_type": "markdown",
   "metadata": {
    "id": "bd6573bc-2adb-410e-a85c-d6d5886d51bf"
   },
   "source": [
    "**Question:** What do you notice about the data types of the columns in the dataset?\n"
   ]
  },
  {
   "cell_type": "markdown",
   "metadata": {
    "id": "NmHY4cWIz2n5"
   },
   "source": [
    "No Specific datatypes have been assigned to the columns\n",
    "all of them except the year founded are object data types."
   ]
  },
  {
   "cell_type": "markdown",
   "metadata": {
    "id": "cAfmH6tjHYiq"
   },
   "source": [
    "**Question:** How would you sort this dataset in order to get insights about when the companies were founded? Then, how would you arrange the data from companies that were founded the earliest to companies that were founded the latest?\n"
   ]
  },
  {
   "cell_type": "markdown",
   "metadata": {
    "id": "8DtM8u4Iz3TA"
   },
   "source": [
    "use sort_values and sort by Date Founded and sort ascending"
   ]
  },
  {
   "cell_type": "markdown",
   "metadata": {
    "id": "1ZqTQXEN9WbW"
   },
   "source": [
    "### Sort the data\n",
    "\n",
    "In this section, you will continue your exploratory data analysis by structuring the data. This is an important step in EDA, as it allows you to glean valuable and interesting insights about the data afterwards.\n",
    "\n",
    "To begin, sort the data so that you can get insights about when the companies were founded. Consider whether it would make sense to sort in ascending or descending order based on what you would like to find."
   ]
  },
  {
   "cell_type": "code",
   "execution_count": 7,
   "metadata": {
    "id": "sjWPuI-xKDat"
   },
   "outputs": [
    {
     "data": {
      "text/html": [
       "<div>\n",
       "<style scoped>\n",
       "    .dataframe tbody tr th:only-of-type {\n",
       "        vertical-align: middle;\n",
       "    }\n",
       "\n",
       "    .dataframe tbody tr th {\n",
       "        vertical-align: top;\n",
       "    }\n",
       "\n",
       "    .dataframe thead th {\n",
       "        text-align: right;\n",
       "    }\n",
       "</style>\n",
       "<table border=\"1\" class=\"dataframe\">\n",
       "  <thead>\n",
       "    <tr style=\"text-align: right;\">\n",
       "      <th></th>\n",
       "      <th>Company</th>\n",
       "      <th>Valuation</th>\n",
       "      <th>Date Joined</th>\n",
       "      <th>Industry</th>\n",
       "      <th>City</th>\n",
       "      <th>Country/Region</th>\n",
       "      <th>Continent</th>\n",
       "      <th>Year Founded</th>\n",
       "      <th>Funding</th>\n",
       "      <th>Select Investors</th>\n",
       "    </tr>\n",
       "  </thead>\n",
       "  <tbody>\n",
       "    <tr>\n",
       "      <th>782</th>\n",
       "      <td>Phantom</td>\n",
       "      <td>$1B</td>\n",
       "      <td>1/31/22</td>\n",
       "      <td>Fintech</td>\n",
       "      <td>San Francisco</td>\n",
       "      <td>United States</td>\n",
       "      <td>North America</td>\n",
       "      <td>2021</td>\n",
       "      <td>$118M</td>\n",
       "      <td>Paradigm, Andreessen Horowitz, Jump Capital</td>\n",
       "    </tr>\n",
       "    <tr>\n",
       "      <th>714</th>\n",
       "      <td>Yidian Zixun</td>\n",
       "      <td>$1B</td>\n",
       "      <td>10/17/17</td>\n",
       "      <td>Mobile &amp; telecommunications</td>\n",
       "      <td>Beijing</td>\n",
       "      <td>China</td>\n",
       "      <td>Asia</td>\n",
       "      <td>2021</td>\n",
       "      <td>$151M</td>\n",
       "      <td>Phoenix New Media, Tianjin Haihe Industry Fund</td>\n",
       "    </tr>\n",
       "    <tr>\n",
       "      <th>822</th>\n",
       "      <td>GlobalBees</td>\n",
       "      <td>$1B</td>\n",
       "      <td>12/28/21</td>\n",
       "      <td>E-commerce &amp; direct-to-consumer</td>\n",
       "      <td>New Delhi</td>\n",
       "      <td>India</td>\n",
       "      <td>Asia</td>\n",
       "      <td>2021</td>\n",
       "      <td>$185M</td>\n",
       "      <td>Chiratae Ventures, SoftBank Group, Trifecta Ca...</td>\n",
       "    </tr>\n",
       "    <tr>\n",
       "      <th>554</th>\n",
       "      <td>ClickHouse</td>\n",
       "      <td>$2B</td>\n",
       "      <td>10/28/21</td>\n",
       "      <td>Data management &amp; analytics</td>\n",
       "      <td>Portola Valley</td>\n",
       "      <td>United States</td>\n",
       "      <td>North America</td>\n",
       "      <td>2021</td>\n",
       "      <td>$300M</td>\n",
       "      <td>Lightspeed Venture Partners, Almaz Capital Par...</td>\n",
       "    </tr>\n",
       "    <tr>\n",
       "      <th>952</th>\n",
       "      <td>LayerZero Labs</td>\n",
       "      <td>$1B</td>\n",
       "      <td>3/30/22</td>\n",
       "      <td>Internet software &amp; services</td>\n",
       "      <td>New York</td>\n",
       "      <td>United States</td>\n",
       "      <td>North America</td>\n",
       "      <td>2021</td>\n",
       "      <td>$143M</td>\n",
       "      <td>Andreessen Horowitz, FTX Ventures, Tiger Globa...</td>\n",
       "    </tr>\n",
       "    <tr>\n",
       "      <th>314</th>\n",
       "      <td>Flink Food</td>\n",
       "      <td>$3B</td>\n",
       "      <td>12/1/21</td>\n",
       "      <td>E-commerce &amp; direct-to-consumer</td>\n",
       "      <td>Berlin</td>\n",
       "      <td>Germany</td>\n",
       "      <td>Europe</td>\n",
       "      <td>2021</td>\n",
       "      <td>$1B</td>\n",
       "      <td>Mubadala Capital, Bond, Prosus Ventures</td>\n",
       "    </tr>\n",
       "    <tr>\n",
       "      <th>864</th>\n",
       "      <td>Aptos</td>\n",
       "      <td>$1B</td>\n",
       "      <td>3/15/22</td>\n",
       "      <td>Internet software &amp; services</td>\n",
       "      <td>Palo Alto</td>\n",
       "      <td>United States</td>\n",
       "      <td>North America</td>\n",
       "      <td>2021</td>\n",
       "      <td>$200M</td>\n",
       "      <td>Andreessen Horowitz, Coinbase Ventures, Tiger ...</td>\n",
       "    </tr>\n",
       "    <tr>\n",
       "      <th>238</th>\n",
       "      <td>Yuga Labs</td>\n",
       "      <td>$4B</td>\n",
       "      <td>3/22/22</td>\n",
       "      <td>Fintech</td>\n",
       "      <td>Miami</td>\n",
       "      <td>United States</td>\n",
       "      <td>North America</td>\n",
       "      <td>2021</td>\n",
       "      <td>$450M</td>\n",
       "      <td>Andreessen Horowitz, Thrive Capital, Sound Ven...</td>\n",
       "    </tr>\n",
       "    <tr>\n",
       "      <th>775</th>\n",
       "      <td>Jokr</td>\n",
       "      <td>$1B</td>\n",
       "      <td>12/2/21</td>\n",
       "      <td>E-commerce &amp; direct-to-consumer</td>\n",
       "      <td>New York</td>\n",
       "      <td>United States</td>\n",
       "      <td>North America</td>\n",
       "      <td>2021</td>\n",
       "      <td>$430M</td>\n",
       "      <td>GGV Capital, Tiger Global Management, Greycroft</td>\n",
       "    </tr>\n",
       "    <tr>\n",
       "      <th>967</th>\n",
       "      <td>Mensa Brands</td>\n",
       "      <td>$1B</td>\n",
       "      <td>11/16/21</td>\n",
       "      <td>Other</td>\n",
       "      <td>Bengaluru</td>\n",
       "      <td>India</td>\n",
       "      <td>Asia</td>\n",
       "      <td>2021</td>\n",
       "      <td>$218M</td>\n",
       "      <td>Accel, Falcon Edge Capital, Norwest Venture Pa...</td>\n",
       "    </tr>\n",
       "  </tbody>\n",
       "</table>\n",
       "</div>"
      ],
      "text/plain": [
       "            Company Valuation Date Joined                         Industry  \\\n",
       "782         Phantom       $1B     1/31/22                          Fintech   \n",
       "714    Yidian Zixun       $1B    10/17/17      Mobile & telecommunications   \n",
       "822      GlobalBees       $1B    12/28/21  E-commerce & direct-to-consumer   \n",
       "554      ClickHouse       $2B    10/28/21      Data management & analytics   \n",
       "952  LayerZero Labs       $1B     3/30/22     Internet software & services   \n",
       "314      Flink Food       $3B     12/1/21  E-commerce & direct-to-consumer   \n",
       "864           Aptos       $1B     3/15/22     Internet software & services   \n",
       "238       Yuga Labs       $4B     3/22/22                          Fintech   \n",
       "775            Jokr       $1B     12/2/21  E-commerce & direct-to-consumer   \n",
       "967    Mensa Brands       $1B    11/16/21                            Other   \n",
       "\n",
       "               City Country/Region      Continent  Year Founded Funding  \\\n",
       "782   San Francisco  United States  North America          2021   $118M   \n",
       "714         Beijing          China           Asia          2021   $151M   \n",
       "822       New Delhi          India           Asia          2021   $185M   \n",
       "554  Portola Valley  United States  North America          2021   $300M   \n",
       "952        New York  United States  North America          2021   $143M   \n",
       "314          Berlin        Germany         Europe          2021     $1B   \n",
       "864       Palo Alto  United States  North America          2021   $200M   \n",
       "238           Miami  United States  North America          2021   $450M   \n",
       "775        New York  United States  North America          2021   $430M   \n",
       "967       Bengaluru          India           Asia          2021   $218M   \n",
       "\n",
       "                                      Select Investors  \n",
       "782        Paradigm, Andreessen Horowitz, Jump Capital  \n",
       "714     Phoenix New Media, Tianjin Haihe Industry Fund  \n",
       "822  Chiratae Ventures, SoftBank Group, Trifecta Ca...  \n",
       "554  Lightspeed Venture Partners, Almaz Capital Par...  \n",
       "952  Andreessen Horowitz, FTX Ventures, Tiger Globa...  \n",
       "314            Mubadala Capital, Bond, Prosus Ventures  \n",
       "864  Andreessen Horowitz, Coinbase Ventures, Tiger ...  \n",
       "238  Andreessen Horowitz, Thrive Capital, Sound Ven...  \n",
       "775    GGV Capital, Tiger Global Management, Greycroft  \n",
       "967  Accel, Falcon Edge Capital, Norwest Venture Pa...  "
      ]
     },
     "execution_count": 7,
     "metadata": {},
     "output_type": "execute_result"
    }
   ],
   "source": [
    "# Sort `companies` and display the first 10 rows of the resulting DataFrame.\n",
    "\n",
    "### YOUR CODE HERE ###\n",
    "\n",
    "companies.sort_values(['Year Founded'], ascending =  False).head(10)\n",
    "\n"
   ]
  },
  {
   "cell_type": "markdown",
   "metadata": {
    "id": "STL5Rkc9AbZE",
    "jp-MarkdownHeadingCollapsed": true,
    "tags": []
   },
   "source": [
    "<details>\n",
    "  <summary><h4><strong>Hint 1</strong></h4></summary>\n",
    "\n",
    "Refer to [the content about exploratory data analysis in Python](https://www.coursera.org/learn/go-beyond-the-numbers-translate-data-into-insight/lecture/kfl9b/find-stories-using-the-six-exploratory-data-analysis-practices).\n",
    "\n",
    "</details>"
   ]
  },
  {
   "cell_type": "markdown",
   "metadata": {
    "id": "_n2d45jEAbZF",
    "jp-MarkdownHeadingCollapsed": true,
    "tags": []
   },
   "source": [
    "<details>\n",
    "  <summary><h4><strong>Hint 2</strong></h4></summary>\n",
    "\n",
    "Use the function in `pandas` that allows you to sort a DataFrame along a specific column.\n",
    "\n",
    "</details>"
   ]
  },
  {
   "cell_type": "markdown",
   "metadata": {
    "id": "0glE3KHwAbZG",
    "jp-MarkdownHeadingCollapsed": true,
    "tags": []
   },
   "source": [
    "<details>\n",
    "  <summary><h4><strong>Hint 3</strong></h4></summary>\n",
    "\n",
    "Use the `sort_values()` function, specifying the `by` parameter as the name of the column that you want to sort by and the `ascending` parameter as needed. Note that by default, `ascending` is set to `True`. If you want to sort in descending order, specify the `ascending` parameter as `False`.\n",
    "\n",
    "</details>"
   ]
  },
  {
   "cell_type": "markdown",
   "metadata": {
    "id": "quCKIWjC_PZr"
   },
   "source": [
    "**Question:** What do you observe from the sorting that you performed?\n"
   ]
  },
  {
   "cell_type": "markdown",
   "metadata": {
    "id": "xyvJZK9Bz4M0"
   },
   "source": [
    "When sorting in ascending, there is no clear pattern and there are very less unicorn companies found in 1900s.\n",
    "\n",
    "Upon sorting is descending order, the top 10 companies are founded in 2021 mainly in asia or North America.\n",
    "\n",
    "All these companies joined the status of unicorn companies almost instantly. (0-1 years.)"
   ]
  },
  {
   "cell_type": "markdown",
   "metadata": {
    "id": "k9_pE69KFqUR"
   },
   "source": [
    "**Question:** Which library would you use to get the count of each distinct value in the `Year Founded` column? \n"
   ]
  },
  {
   "cell_type": "markdown",
   "metadata": {
    "id": "Cn0rtLX_z5BN"
   },
   "source": [
    "pandas"
   ]
  },
  {
   "cell_type": "markdown",
   "metadata": {
    "id": "95ICE9dXHWZY"
   },
   "source": [
    "### Determine the number of companies founded each year\n",
    "\n",
    "Find out how many companies in this dataset were founded each year. Make sure to display each unique `Year Founded` that occurs in the dataset, and for each year, a number that represents how many companies were founded then."
   ]
  },
  {
   "cell_type": "code",
   "execution_count": 8,
   "metadata": {
    "id": "_ZzafpsJ_VQ_"
   },
   "outputs": [
    {
     "data": {
      "text/plain": [
       "2015    155\n",
       "2016    110\n",
       "2014    109\n",
       "2012     95\n",
       "2013     87\n",
       "2011     82\n",
       "2017     74\n",
       "2018     61\n",
       "2019     45\n",
       "2010     40\n",
       "2009     34\n",
       "2008     27\n",
       "2020     25\n",
       "2007     24\n",
       "2006     15\n",
       "2005     14\n",
       "2021     11\n",
       "2000     11\n",
       "2001      9\n",
       "1999      8\n",
       "2004      8\n",
       "2003      8\n",
       "1998      5\n",
       "2002      4\n",
       "1994      2\n",
       "1995      2\n",
       "1996      1\n",
       "1919      1\n",
       "1991      1\n",
       "1979      1\n",
       "1992      1\n",
       "1984      1\n",
       "1990      1\n",
       "1993      1\n",
       "1997      1\n",
       "Name: Year Founded, dtype: int64"
      ]
     },
     "execution_count": 8,
     "metadata": {},
     "output_type": "execute_result"
    }
   ],
   "source": [
    "# Display each unique year that occurs in the dataset\n",
    "# along with the number of companies that were founded in each unique year.\n",
    "\n",
    "### YOUR CODE HERE ###\n",
    "years = pd.value_counts(companies['Year Founded'])\n",
    "years"
   ]
  },
  {
   "cell_type": "markdown",
   "metadata": {
    "id": "nBZVJaWxJsKm",
    "jp-MarkdownHeadingCollapsed": true,
    "tags": []
   },
   "source": [
    "<details>\n",
    "  <summary><h4><strong>Hint 1</strong></h4></summary>\n",
    "\n",
    "Refer to [the content about exploratory data analysis in Python](https://www.coursera.org/learn/go-beyond-the-numbers-translate-data-into-insight/lecture/kfl9b/find-stories-using-the-six-exploratory-data-analysis-practices).\n",
    "\n",
    "</details>"
   ]
  },
  {
   "cell_type": "markdown",
   "metadata": {
    "id": "eGDXI8HcJsKo",
    "jp-MarkdownHeadingCollapsed": true,
    "tags": []
   },
   "source": [
    "<details>\n",
    "  <summary><h4><strong>Hint 2</strong></h4></summary>\n",
    "\n",
    "Use the function in `pandas` that allows you to get the count for each distinct value in a specific column.\n",
    "\n",
    "</details>"
   ]
  },
  {
   "cell_type": "markdown",
   "metadata": {
    "id": "cDwQaEkwJsKo",
    "jp-MarkdownHeadingCollapsed": true,
    "tags": []
   },
   "source": [
    "<details>\n",
    "  <summary><h4><strong>Hint 3</strong></h4></summary>\n",
    "\n",
    "Use the `value_counts()` function on the `Year Founded` column. \n",
    "\n",
    "</details>"
   ]
  },
  {
   "cell_type": "markdown",
   "metadata": {
    "id": "rpMFZQqpJYW6"
   },
   "source": [
    "**Question:** What do you observe from the counts of the unique `Year Founded` values in the dataset?\n"
   ]
  },
  {
   "cell_type": "markdown",
   "metadata": {
    "id": "i8luOA1Oz6DJ"
   },
   "source": [
    "Most of Companies wetre found after the 2000s. Very less number of companies are from before 1996."
   ]
  },
  {
   "cell_type": "markdown",
   "metadata": {},
   "source": [
    "**Question:** What kind of graph represents the counts of samples based on a particular feature?\n"
   ]
  },
  {
   "cell_type": "markdown",
   "metadata": {},
   "source": [
    "Histogram"
   ]
  },
  {
   "cell_type": "markdown",
   "metadata": {},
   "source": [
    "Plot a histogram of the `Year Founded` feature."
   ]
  },
  {
   "cell_type": "code",
   "execution_count": 9,
   "metadata": {},
   "outputs": [
    {
     "data": {
      "image/png": "[encoded data removed]",
      "text/plain": [
       "<Figure size 432x288 with 1 Axes>"
      ]
     },
     "metadata": {
      "needs_background": "light"
     },
     "output_type": "display_data"
    }
   ],
   "source": [
    "# Plot a histogram of the Year Founded feature.\n",
    "### YOUR CODE HERE ###\n",
    "sns.histplot(data=companies, \n",
    "             x='Year Founded')\n",
    "plt.title('Year Founded histogram');"
   ]
  },
  {
   "cell_type": "markdown",
   "metadata": {
    "id": "XzKBLKpOMerv"
   },
   "source": [
    "**Question:** If you want to compare when one company joined unicorn status to when another company joined, how would you transform the `Date Joined` column to gain that insight? To answer this question, notice the data types.\n"
   ]
  },
  {
   "cell_type": "markdown",
   "metadata": {
    "id": "RqFif2yaz6pU"
   },
   "source": [
    "Conver to Datetime from object data type."
   ]
  },
  {
   "cell_type": "markdown",
   "metadata": {
    "id": "94b53c7f-54d8-4d1a-ae07-7c28c2ab8f5b",
    "tags": []
   },
   "source": [
    "### Convert the `Date Joined` column to datetime\n",
    "\n",
    "Convert the `Date Joined` column to datetime. This will split each value into year, month, and date components, allowing you to later gain insights about when a company gained unicorn status with respect to each component."
   ]
  },
  {
   "cell_type": "code",
   "execution_count": 10,
   "metadata": {
    "id": "afe607c8-9dd7-47c3-9fc8-88772f015e2b"
   },
   "outputs": [
    {
     "data": {
      "text/plain": [
       "Company                     object\n",
       "Valuation                   object\n",
       "Date Joined         datetime64[ns]\n",
       "Industry                    object\n",
       "City                        object\n",
       "Country/Region              object\n",
       "Continent                   object\n",
       "Year Founded                 int64\n",
       "Funding                     object\n",
       "Select Investors            object\n",
       "dtype: object"
      ]
     },
     "execution_count": 10,
     "metadata": {},
     "output_type": "execute_result"
    }
   ],
   "source": [
    "# Convert the `Date Joined` column to datetime.\n",
    "# Update the column with the converted values.\n",
    "\n",
    "### YOUR CODE HERE ###\n",
    "companies['Date Joined'] = pd.to_datetime(companies['Date Joined'])\n",
    "\n",
    "\n",
    "\n",
    "# Display the data types of the columns in `companies`\n",
    "# to confirm that the update actually took place.\n",
    "\n",
    "### YOUR CODE HERE ###\n",
    "companies.dtypes\n"
   ]
  },
  {
   "cell_type": "markdown",
   "metadata": {
    "id": "ouhV8x_wP5uJ",
    "jp-MarkdownHeadingCollapsed": true,
    "tags": []
   },
   "source": [
    "<details>\n",
    "  <summary><h4><strong>Hint 1</strong></h4></summary>\n",
    "\n",
    "Refer to [the content about datetime transformations in Python](https://www.coursera.org/learn/go-beyond-the-numbers-translate-data-into-insight/supplement/ZcM4z/reference-guide-datetime-manipulation).\n",
    "\n",
    "</details>"
   ]
  },
  {
   "cell_type": "markdown",
   "metadata": {
    "id": "mhYA5bwIP5uL",
    "jp-MarkdownHeadingCollapsed": true,
    "tags": []
   },
   "source": [
    "<details>\n",
    "  <summary><h4><strong>Hint 2</strong></h4></summary>\n",
    "\n",
    "Use the function in `pandas` that allows you to convert an object to datetime format.\n",
    "\n",
    "Use the property that DataFrames have that can be used to display the data types of the columns.\n",
    "\n",
    "</details>"
   ]
  },
  {
   "cell_type": "markdown",
   "metadata": {
    "id": "Y9ipjYInP5uM",
    "jp-MarkdownHeadingCollapsed": true,
    "tags": []
   },
   "source": [
    "<details>\n",
    "  <summary><h4><strong>Hint 3</strong></h4></summary>\n",
    "\n",
    "Use the `to_datetime()` function on the `Date Joined` column.\n",
    "\n",
    "Make sure to update the column by reassigning to the result of the function call mentioned previously.\n",
    "\n",
    "Use the `dtypes` property to get the data types of the columns in `companies`.\n",
    "\n",
    "</details>"
   ]
  },
  {
   "cell_type": "markdown",
   "metadata": {
    "id": "8Gl70TvPVDsO"
   },
   "source": [
    "**Question:** How would you obtain the names of the months when companies gained unicorn status?\n"
   ]
  },
  {
   "cell_type": "markdown",
   "metadata": {
    "id": "C3Dp7ePXz8Cz"
   },
   "source": [
    "Use the Date Joined column to extract the month and get the month name as the column has a datetime datatype.\n"
   ]
  },
  {
   "cell_type": "markdown",
   "metadata": {
    "id": "ae351a97-926e-40af-91e2-4bd12a5bf888",
    "tags": []
   },
   "source": [
    "### Create a `Month Joined` column\n",
    "\n",
    "Obtain the names of the months when companies gained unicorn status, and use the result to create a `Month Joined` column. "
   ]
  },
  {
   "cell_type": "code",
   "execution_count": 11,
   "metadata": {
    "id": "PFBo2wdQU6U1"
   },
   "outputs": [
    {
     "data": {
      "text/html": [
       "<div>\n",
       "<style scoped>\n",
       "    .dataframe tbody tr th:only-of-type {\n",
       "        vertical-align: middle;\n",
       "    }\n",
       "\n",
       "    .dataframe tbody tr th {\n",
       "        vertical-align: top;\n",
       "    }\n",
       "\n",
       "    .dataframe thead th {\n",
       "        text-align: right;\n",
       "    }\n",
       "</style>\n",
       "<table border=\"1\" class=\"dataframe\">\n",
       "  <thead>\n",
       "    <tr style=\"text-align: right;\">\n",
       "      <th></th>\n",
       "      <th>Company</th>\n",
       "      <th>Valuation</th>\n",
       "      <th>Date Joined</th>\n",
       "      <th>Industry</th>\n",
       "      <th>City</th>\n",
       "      <th>Country/Region</th>\n",
       "      <th>Continent</th>\n",
       "      <th>Year Founded</th>\n",
       "      <th>Funding</th>\n",
       "      <th>Select Investors</th>\n",
       "      <th>Month Joined</th>\n",
       "    </tr>\n",
       "  </thead>\n",
       "  <tbody>\n",
       "    <tr>\n",
       "      <th>0</th>\n",
       "      <td>Bytedance</td>\n",
       "      <td>$180B</td>\n",
       "      <td>2017-04-07</td>\n",
       "      <td>Artificial intelligence</td>\n",
       "      <td>Beijing</td>\n",
       "      <td>China</td>\n",
       "      <td>Asia</td>\n",
       "      <td>2012</td>\n",
       "      <td>$8B</td>\n",
       "      <td>Sequoia Capital China, SIG Asia Investments, S...</td>\n",
       "      <td>April</td>\n",
       "    </tr>\n",
       "    <tr>\n",
       "      <th>1</th>\n",
       "      <td>SpaceX</td>\n",
       "      <td>$100B</td>\n",
       "      <td>2012-12-01</td>\n",
       "      <td>Other</td>\n",
       "      <td>Hawthorne</td>\n",
       "      <td>United States</td>\n",
       "      <td>North America</td>\n",
       "      <td>2002</td>\n",
       "      <td>$7B</td>\n",
       "      <td>Founders Fund, Draper Fisher Jurvetson, Rothen...</td>\n",
       "      <td>December</td>\n",
       "    </tr>\n",
       "    <tr>\n",
       "      <th>2</th>\n",
       "      <td>SHEIN</td>\n",
       "      <td>$100B</td>\n",
       "      <td>2018-07-03</td>\n",
       "      <td>E-commerce &amp; direct-to-consumer</td>\n",
       "      <td>Shenzhen</td>\n",
       "      <td>China</td>\n",
       "      <td>Asia</td>\n",
       "      <td>2008</td>\n",
       "      <td>$2B</td>\n",
       "      <td>Tiger Global Management, Sequoia Capital China...</td>\n",
       "      <td>July</td>\n",
       "    </tr>\n",
       "    <tr>\n",
       "      <th>3</th>\n",
       "      <td>Stripe</td>\n",
       "      <td>$95B</td>\n",
       "      <td>2014-01-23</td>\n",
       "      <td>Fintech</td>\n",
       "      <td>San Francisco</td>\n",
       "      <td>United States</td>\n",
       "      <td>North America</td>\n",
       "      <td>2010</td>\n",
       "      <td>$2B</td>\n",
       "      <td>Khosla Ventures, LowercaseCapital, capitalG</td>\n",
       "      <td>January</td>\n",
       "    </tr>\n",
       "    <tr>\n",
       "      <th>4</th>\n",
       "      <td>Klarna</td>\n",
       "      <td>$46B</td>\n",
       "      <td>2011-12-12</td>\n",
       "      <td>Fintech</td>\n",
       "      <td>Stockholm</td>\n",
       "      <td>Sweden</td>\n",
       "      <td>Europe</td>\n",
       "      <td>2005</td>\n",
       "      <td>$4B</td>\n",
       "      <td>Institutional Venture Partners, Sequoia Capita...</td>\n",
       "      <td>December</td>\n",
       "    </tr>\n",
       "    <tr>\n",
       "      <th>5</th>\n",
       "      <td>Canva</td>\n",
       "      <td>$40B</td>\n",
       "      <td>2018-01-08</td>\n",
       "      <td>Internet software &amp; services</td>\n",
       "      <td>Surry Hills</td>\n",
       "      <td>Australia</td>\n",
       "      <td>Oceania</td>\n",
       "      <td>2012</td>\n",
       "      <td>$572M</td>\n",
       "      <td>Sequoia Capital China, Blackbird Ventures, Mat...</td>\n",
       "      <td>January</td>\n",
       "    </tr>\n",
       "    <tr>\n",
       "      <th>6</th>\n",
       "      <td>Checkout.com</td>\n",
       "      <td>$40B</td>\n",
       "      <td>2019-05-02</td>\n",
       "      <td>Fintech</td>\n",
       "      <td>London</td>\n",
       "      <td>United Kingdom</td>\n",
       "      <td>Europe</td>\n",
       "      <td>2012</td>\n",
       "      <td>$2B</td>\n",
       "      <td>Tiger Global Management, Insight Partners, DST...</td>\n",
       "      <td>May</td>\n",
       "    </tr>\n",
       "    <tr>\n",
       "      <th>7</th>\n",
       "      <td>Instacart</td>\n",
       "      <td>$39B</td>\n",
       "      <td>2014-12-30</td>\n",
       "      <td>Supply chain, logistics, &amp; delivery</td>\n",
       "      <td>San Francisco</td>\n",
       "      <td>United States</td>\n",
       "      <td>North America</td>\n",
       "      <td>2012</td>\n",
       "      <td>$3B</td>\n",
       "      <td>Khosla Ventures, Kleiner Perkins Caufield &amp; By...</td>\n",
       "      <td>December</td>\n",
       "    </tr>\n",
       "    <tr>\n",
       "      <th>8</th>\n",
       "      <td>JUUL Labs</td>\n",
       "      <td>$38B</td>\n",
       "      <td>2017-12-20</td>\n",
       "      <td>Consumer &amp; retail</td>\n",
       "      <td>San Francisco</td>\n",
       "      <td>United States</td>\n",
       "      <td>North America</td>\n",
       "      <td>2015</td>\n",
       "      <td>$14B</td>\n",
       "      <td>Tiger Global Management</td>\n",
       "      <td>December</td>\n",
       "    </tr>\n",
       "    <tr>\n",
       "      <th>9</th>\n",
       "      <td>Databricks</td>\n",
       "      <td>$38B</td>\n",
       "      <td>2019-02-05</td>\n",
       "      <td>Data management &amp; analytics</td>\n",
       "      <td>San Francisco</td>\n",
       "      <td>United States</td>\n",
       "      <td>North America</td>\n",
       "      <td>2013</td>\n",
       "      <td>$3B</td>\n",
       "      <td>Andreessen Horowitz, New Enterprise Associates...</td>\n",
       "      <td>February</td>\n",
       "    </tr>\n",
       "  </tbody>\n",
       "</table>\n",
       "</div>"
      ],
      "text/plain": [
       "        Company Valuation Date Joined                             Industry  \\\n",
       "0     Bytedance     $180B  2017-04-07              Artificial intelligence   \n",
       "1        SpaceX     $100B  2012-12-01                                Other   \n",
       "2         SHEIN     $100B  2018-07-03      E-commerce & direct-to-consumer   \n",
       "3        Stripe      $95B  2014-01-23                              Fintech   \n",
       "4        Klarna      $46B  2011-12-12                              Fintech   \n",
       "5         Canva      $40B  2018-01-08         Internet software & services   \n",
       "6  Checkout.com      $40B  2019-05-02                              Fintech   \n",
       "7     Instacart      $39B  2014-12-30  Supply chain, logistics, & delivery   \n",
       "8     JUUL Labs      $38B  2017-12-20                    Consumer & retail   \n",
       "9    Databricks      $38B  2019-02-05          Data management & analytics   \n",
       "\n",
       "            City  Country/Region      Continent  Year Founded Funding  \\\n",
       "0        Beijing           China           Asia          2012     $8B   \n",
       "1      Hawthorne   United States  North America          2002     $7B   \n",
       "2       Shenzhen           China           Asia          2008     $2B   \n",
       "3  San Francisco   United States  North America          2010     $2B   \n",
       "4      Stockholm          Sweden         Europe          2005     $4B   \n",
       "5    Surry Hills       Australia        Oceania          2012   $572M   \n",
       "6         London  United Kingdom         Europe          2012     $2B   \n",
       "7  San Francisco   United States  North America          2012     $3B   \n",
       "8  San Francisco   United States  North America          2015    $14B   \n",
       "9  San Francisco   United States  North America          2013     $3B   \n",
       "\n",
       "                                    Select Investors Month Joined  \n",
       "0  Sequoia Capital China, SIG Asia Investments, S...        April  \n",
       "1  Founders Fund, Draper Fisher Jurvetson, Rothen...     December  \n",
       "2  Tiger Global Management, Sequoia Capital China...         July  \n",
       "3        Khosla Ventures, LowercaseCapital, capitalG      January  \n",
       "4  Institutional Venture Partners, Sequoia Capita...     December  \n",
       "5  Sequoia Capital China, Blackbird Ventures, Mat...      January  \n",
       "6  Tiger Global Management, Insight Partners, DST...          May  \n",
       "7  Khosla Ventures, Kleiner Perkins Caufield & By...     December  \n",
       "8                            Tiger Global Management     December  \n",
       "9  Andreessen Horowitz, New Enterprise Associates...     February  "
      ]
     },
     "execution_count": 11,
     "metadata": {},
     "output_type": "execute_result"
    }
   ],
   "source": [
    "# Obtain the names of the months when companies gained unicorn status.\n",
    "# Use the result to create a `Month Joined` column.\n",
    "\n",
    "### YOUR CODE HERE ###\n",
    "companies['Month Joined'] = companies['Date Joined'].dt.month_name()\n",
    "\n",
    "\n",
    "\n",
    "# Display the first few rows of `companies`\n",
    "# to confirm that the new column did get added.\n",
    "\n",
    "### YOUR CODE HERE ###\n",
    "companies.head(10)\n"
   ]
  },
  {
   "cell_type": "markdown",
   "metadata": {
    "id": "uqVlpsSDYeR1",
    "jp-MarkdownHeadingCollapsed": true,
    "tags": []
   },
   "source": [
    "<details>\n",
    "  <summary><h4><strong>Hint 1</strong></h4></summary>\n",
    "\n",
    "Refer to [the content about extracting components from datetime objects in Python](https://www.coursera.org/learn/go-beyond-the-numbers-translate-data-into-insight/lecture/Vh13u/use-structuring-methods-to-establish-order-in-your-dataset).\n",
    "\n",
    "</details>"
   ]
  },
  {
   "cell_type": "markdown",
   "metadata": {
    "id": "VB0tiRB9YeR3",
    "jp-MarkdownHeadingCollapsed": true,
    "tags": []
   },
   "source": [
    "<details>\n",
    "  <summary><h4><strong>Hint 2</strong></h4></summary>\n",
    "\n",
    "Use the function in the `pandas` library that contains datetime strings in order to extract the month names.\n",
    "\n",
    "Use the function in the `pandas` library that allows you to display the first few rows of a DataFrame.\n",
    "\n",
    "</details>"
   ]
  },
  {
   "cell_type": "markdown",
   "metadata": {
    "id": "B3o5tPHPYeR5",
    "jp-MarkdownHeadingCollapsed": true,
    "tags": []
   },
   "source": [
    "<details>\n",
    "  <summary><h4><strong>Hint 3</strong></h4></summary>\n",
    "\n",
    "Use the `dt.month_name()` function on the `Date Joined` column.\n",
    "\n",
    "Use a pair of square brackets to create a new column. Make sure to specify the name of the new column inside the brackets and assign the column to the result of calling the function mentioned previously.\n",
    "\n",
    "Use the `head()` function to display the first few rows of a DataFrame.\n",
    "\n",
    "</details>"
   ]
  },
  {
   "cell_type": "markdown",
   "metadata": {
    "id": "W81zWrCE8_Ye"
   },
   "source": [
    "**Question:** Using the 'Date Joined' column, how would you determine how many years it took for companies to reach unicorn status?\n"
   ]
  },
  {
   "cell_type": "markdown",
   "metadata": {
    "id": "uNbv1cAnz9NA"
   },
   "source": [
    "Year Joined - Year founded "
   ]
  },
  {
   "cell_type": "markdown",
   "metadata": {
    "id": "6xTyzHiM8_Yf",
    "tags": []
   },
   "source": [
    "### Create a `Years To Join` column\n",
    "\n",
    "Determine how many years it took for companies to reach unicorn status, and use the result to create a `Years To Join` column. Adding this to the dataset can help you answer questions you may have about this aspect of the companies."
   ]
  },
  {
   "cell_type": "code",
   "execution_count": 12,
   "metadata": {
    "id": "9zK8Q7-v-Bx1"
   },
   "outputs": [
    {
     "data": {
      "text/html": [
       "<div>\n",
       "<style scoped>\n",
       "    .dataframe tbody tr th:only-of-type {\n",
       "        vertical-align: middle;\n",
       "    }\n",
       "\n",
       "    .dataframe tbody tr th {\n",
       "        vertical-align: top;\n",
       "    }\n",
       "\n",
       "    .dataframe thead th {\n",
       "        text-align: right;\n",
       "    }\n",
       "</style>\n",
       "<table border=\"1\" class=\"dataframe\">\n",
       "  <thead>\n",
       "    <tr style=\"text-align: right;\">\n",
       "      <th></th>\n",
       "      <th>Company</th>\n",
       "      <th>Valuation</th>\n",
       "      <th>Date Joined</th>\n",
       "      <th>Industry</th>\n",
       "      <th>City</th>\n",
       "      <th>Country/Region</th>\n",
       "      <th>Continent</th>\n",
       "      <th>Year Founded</th>\n",
       "      <th>Funding</th>\n",
       "      <th>Select Investors</th>\n",
       "      <th>Month Joined</th>\n",
       "      <th>Years to Join</th>\n",
       "    </tr>\n",
       "  </thead>\n",
       "  <tbody>\n",
       "    <tr>\n",
       "      <th>0</th>\n",
       "      <td>Bytedance</td>\n",
       "      <td>$180B</td>\n",
       "      <td>2017-04-07</td>\n",
       "      <td>Artificial intelligence</td>\n",
       "      <td>Beijing</td>\n",
       "      <td>China</td>\n",
       "      <td>Asia</td>\n",
       "      <td>2012</td>\n",
       "      <td>$8B</td>\n",
       "      <td>Sequoia Capital China, SIG Asia Investments, S...</td>\n",
       "      <td>April</td>\n",
       "      <td>5</td>\n",
       "    </tr>\n",
       "    <tr>\n",
       "      <th>1</th>\n",
       "      <td>SpaceX</td>\n",
       "      <td>$100B</td>\n",
       "      <td>2012-12-01</td>\n",
       "      <td>Other</td>\n",
       "      <td>Hawthorne</td>\n",
       "      <td>United States</td>\n",
       "      <td>North America</td>\n",
       "      <td>2002</td>\n",
       "      <td>$7B</td>\n",
       "      <td>Founders Fund, Draper Fisher Jurvetson, Rothen...</td>\n",
       "      <td>December</td>\n",
       "      <td>10</td>\n",
       "    </tr>\n",
       "    <tr>\n",
       "      <th>2</th>\n",
       "      <td>SHEIN</td>\n",
       "      <td>$100B</td>\n",
       "      <td>2018-07-03</td>\n",
       "      <td>E-commerce &amp; direct-to-consumer</td>\n",
       "      <td>Shenzhen</td>\n",
       "      <td>China</td>\n",
       "      <td>Asia</td>\n",
       "      <td>2008</td>\n",
       "      <td>$2B</td>\n",
       "      <td>Tiger Global Management, Sequoia Capital China...</td>\n",
       "      <td>July</td>\n",
       "      <td>10</td>\n",
       "    </tr>\n",
       "    <tr>\n",
       "      <th>3</th>\n",
       "      <td>Stripe</td>\n",
       "      <td>$95B</td>\n",
       "      <td>2014-01-23</td>\n",
       "      <td>Fintech</td>\n",
       "      <td>San Francisco</td>\n",
       "      <td>United States</td>\n",
       "      <td>North America</td>\n",
       "      <td>2010</td>\n",
       "      <td>$2B</td>\n",
       "      <td>Khosla Ventures, LowercaseCapital, capitalG</td>\n",
       "      <td>January</td>\n",
       "      <td>4</td>\n",
       "    </tr>\n",
       "    <tr>\n",
       "      <th>4</th>\n",
       "      <td>Klarna</td>\n",
       "      <td>$46B</td>\n",
       "      <td>2011-12-12</td>\n",
       "      <td>Fintech</td>\n",
       "      <td>Stockholm</td>\n",
       "      <td>Sweden</td>\n",
       "      <td>Europe</td>\n",
       "      <td>2005</td>\n",
       "      <td>$4B</td>\n",
       "      <td>Institutional Venture Partners, Sequoia Capita...</td>\n",
       "      <td>December</td>\n",
       "      <td>6</td>\n",
       "    </tr>\n",
       "  </tbody>\n",
       "</table>\n",
       "</div>"
      ],
      "text/plain": [
       "     Company Valuation Date Joined                         Industry  \\\n",
       "0  Bytedance     $180B  2017-04-07          Artificial intelligence   \n",
       "1     SpaceX     $100B  2012-12-01                            Other   \n",
       "2      SHEIN     $100B  2018-07-03  E-commerce & direct-to-consumer   \n",
       "3     Stripe      $95B  2014-01-23                          Fintech   \n",
       "4     Klarna      $46B  2011-12-12                          Fintech   \n",
       "\n",
       "            City Country/Region      Continent  Year Founded Funding  \\\n",
       "0        Beijing          China           Asia          2012     $8B   \n",
       "1      Hawthorne  United States  North America          2002     $7B   \n",
       "2       Shenzhen          China           Asia          2008     $2B   \n",
       "3  San Francisco  United States  North America          2010     $2B   \n",
       "4      Stockholm         Sweden         Europe          2005     $4B   \n",
       "\n",
       "                                    Select Investors Month Joined  \\\n",
       "0  Sequoia Capital China, SIG Asia Investments, S...        April   \n",
       "1  Founders Fund, Draper Fisher Jurvetson, Rothen...     December   \n",
       "2  Tiger Global Management, Sequoia Capital China...         July   \n",
       "3        Khosla Ventures, LowercaseCapital, capitalG      January   \n",
       "4  Institutional Venture Partners, Sequoia Capita...     December   \n",
       "\n",
       "   Years to Join  \n",
       "0              5  \n",
       "1             10  \n",
       "2             10  \n",
       "3              4  \n",
       "4              6  "
      ]
     },
     "execution_count": 12,
     "metadata": {},
     "output_type": "execute_result"
    }
   ],
   "source": [
    "# Determine how many years it took for companies to reach unicorn status.\n",
    "# Use the result to create a `Years To Join` column.\n",
    "\n",
    "### YOUR CODE HERE ###\n",
    "companies['Years to Join'] = companies[\"Date Joined\"].dt.year - companies[\"Year Founded\"] \n",
    "\n",
    "\n",
    "\n",
    "# Display the first few rows of `companies`\n",
    "# to confirm that the new column did get added.\n",
    "\n",
    "### YOUR CODE HERE ###\n",
    "companies.head()\n"
   ]
  },
  {
   "cell_type": "markdown",
   "metadata": {
    "id": "ruKtgVdWCPxU",
    "jp-MarkdownHeadingCollapsed": true,
    "tags": []
   },
   "source": [
    "<details>\n",
    "  <summary><h4><strong>Hint 1</strong></h4></summary>\n",
    "\n",
    "Refer to [the content about extracting components from datetime objects in Python](https://www.coursera.org/learn/go-beyond-the-numbers-translate-data-into-insight/lecture/Vh13u/use-structuring-methods-to-establish-order-in-your-dataset).\n",
    "\n",
    "</details>"
   ]
  },
  {
   "cell_type": "markdown",
   "metadata": {
    "id": "1BuXj5ClCPxW",
    "jp-MarkdownHeadingCollapsed": true,
    "tags": []
   },
   "source": [
    "\n",
    "<details>\n",
    "  <summary><h4><strong>Hint 2</strong></h4></summary>\n",
    "\n",
    "Use the property in the `pandas` library that contains datetime strings in order to extract the year components.\n",
    "\n",
    "Use the function in the `pandas` library that allows you to display the first few rows of a DataFrame.\n",
    "\n",
    "</details>"
   ]
  },
  {
   "cell_type": "markdown",
   "metadata": {
    "id": "QOTFxOzDCPxY",
    "jp-MarkdownHeadingCollapsed": true,
    "tags": []
   },
   "source": [
    "<details>\n",
    "  <summary><h4><strong>Hint 3</strong></h4></summary>\n",
    "\n",
    "Use the `dt.year` property on the `Date Joined` column to obtain the years that companies became unicorns.\n",
    "\n",
    "Obtain the arithmetic difference elementwise between two series in `pandas` by using the subtraction operator.  \n",
    "\n",
    "Use a pair of square brackets to create a new column. Make sure to specify the name of the new column inside the brackets and assign the column to the result of calling the function mentioned previously.\n",
    "\n",
    "Use the `head()` function can to display the first few rows of a DataFrame.\n",
    "\n",
    "</details>"
   ]
  },
  {
   "cell_type": "markdown",
   "metadata": {
    "id": "98YFM1o4-VQ_"
   },
   "source": [
    "**Question:** Which year would you like to gain more insight on with respect when companies attained unicorn status, and why?\n"
   ]
  },
  {
   "cell_type": "markdown",
   "metadata": {
    "id": "hRT_vGZhz-Ij"
   },
   "source": [
    "I would like to investigate the number of years it took the companies to get the Unicorn status."
   ]
  },
  {
   "cell_type": "markdown",
   "metadata": {
    "id": "nx-WbHfLCdTd"
   },
   "source": [
    "### Gain more insight on a specific year\n",
    "\n",
    "To gain more insight on the year of that interests you, filter the dataset by that year and save the resulting subset into a new variable. "
   ]
  },
  {
   "cell_type": "code",
   "execution_count": 13,
   "metadata": {
    "id": "5FnSS5fBEUY-"
   },
   "outputs": [
    {
     "data": {
      "text/html": [
       "<div>\n",
       "<style scoped>\n",
       "    .dataframe tbody tr th:only-of-type {\n",
       "        vertical-align: middle;\n",
       "    }\n",
       "\n",
       "    .dataframe tbody tr th {\n",
       "        vertical-align: top;\n",
       "    }\n",
       "\n",
       "    .dataframe thead th {\n",
       "        text-align: right;\n",
       "    }\n",
       "</style>\n",
       "<table border=\"1\" class=\"dataframe\">\n",
       "  <thead>\n",
       "    <tr style=\"text-align: right;\">\n",
       "      <th></th>\n",
       "      <th>Company</th>\n",
       "      <th>Valuation</th>\n",
       "      <th>Date Joined</th>\n",
       "      <th>Industry</th>\n",
       "      <th>City</th>\n",
       "      <th>Country/Region</th>\n",
       "      <th>Continent</th>\n",
       "      <th>Year Founded</th>\n",
       "      <th>Funding</th>\n",
       "      <th>Select Investors</th>\n",
       "      <th>Month Joined</th>\n",
       "      <th>Years to Join</th>\n",
       "    </tr>\n",
       "  </thead>\n",
       "  <tbody>\n",
       "    <tr>\n",
       "      <th>12</th>\n",
       "      <td>FTX</td>\n",
       "      <td>$32B</td>\n",
       "      <td>2021-07-20</td>\n",
       "      <td>Fintech</td>\n",
       "      <td>NaN</td>\n",
       "      <td>Bahamas</td>\n",
       "      <td>North America</td>\n",
       "      <td>2018</td>\n",
       "      <td>$2B</td>\n",
       "      <td>Sequoia Capital, Thoma Bravo, Softbank</td>\n",
       "      <td>July</td>\n",
       "      <td>3</td>\n",
       "    </tr>\n",
       "    <tr>\n",
       "      <th>16</th>\n",
       "      <td>J&amp;T Express</td>\n",
       "      <td>$20B</td>\n",
       "      <td>2021-04-07</td>\n",
       "      <td>Supply chain, logistics, &amp; delivery</td>\n",
       "      <td>Jakarta</td>\n",
       "      <td>Indonesia</td>\n",
       "      <td>Asia</td>\n",
       "      <td>2015</td>\n",
       "      <td>$5B</td>\n",
       "      <td>Hillhouse Capital Management, Boyu Capital, Se...</td>\n",
       "      <td>April</td>\n",
       "      <td>6</td>\n",
       "    </tr>\n",
       "    <tr>\n",
       "      <th>24</th>\n",
       "      <td>Blockchain.com</td>\n",
       "      <td>$14B</td>\n",
       "      <td>2021-02-17</td>\n",
       "      <td>Fintech</td>\n",
       "      <td>London</td>\n",
       "      <td>United Kingdom</td>\n",
       "      <td>Europe</td>\n",
       "      <td>2011</td>\n",
       "      <td>$490M</td>\n",
       "      <td>Lightspeed Venture Partners, Google Ventures, ...</td>\n",
       "      <td>February</td>\n",
       "      <td>10</td>\n",
       "    </tr>\n",
       "    <tr>\n",
       "      <th>27</th>\n",
       "      <td>OpenSea</td>\n",
       "      <td>$13B</td>\n",
       "      <td>2021-07-20</td>\n",
       "      <td>E-commerce &amp; direct-to-consumer</td>\n",
       "      <td>New York</td>\n",
       "      <td>United States</td>\n",
       "      <td>North America</td>\n",
       "      <td>2017</td>\n",
       "      <td>$427M</td>\n",
       "      <td>Andreessen Horowitz, Thirty Five Ventures, Sou...</td>\n",
       "      <td>July</td>\n",
       "      <td>4</td>\n",
       "    </tr>\n",
       "    <tr>\n",
       "      <th>34</th>\n",
       "      <td>Getir</td>\n",
       "      <td>$12B</td>\n",
       "      <td>2021-03-26</td>\n",
       "      <td>E-commerce &amp; direct-to-consumer</td>\n",
       "      <td>Istanbul</td>\n",
       "      <td>Turkey</td>\n",
       "      <td>Europe</td>\n",
       "      <td>2015</td>\n",
       "      <td>$2B</td>\n",
       "      <td>Tiger Global Management, Sequoia Capital, Revo...</td>\n",
       "      <td>March</td>\n",
       "      <td>6</td>\n",
       "    </tr>\n",
       "    <tr>\n",
       "      <th>37</th>\n",
       "      <td>GoodLeap</td>\n",
       "      <td>$12B</td>\n",
       "      <td>2021-10-13</td>\n",
       "      <td>Internet software &amp; services</td>\n",
       "      <td>Roseville</td>\n",
       "      <td>United States</td>\n",
       "      <td>North America</td>\n",
       "      <td>2003</td>\n",
       "      <td>$800M</td>\n",
       "      <td>New Enterprise Associates, BDT Capital Partner...</td>\n",
       "      <td>October</td>\n",
       "      <td>18</td>\n",
       "    </tr>\n",
       "    <tr>\n",
       "      <th>39</th>\n",
       "      <td>ZongMu Technology</td>\n",
       "      <td>$11B</td>\n",
       "      <td>2021-06-03</td>\n",
       "      <td>Auto &amp; transportation</td>\n",
       "      <td>Shanghai</td>\n",
       "      <td>China</td>\n",
       "      <td>Asia</td>\n",
       "      <td>2013</td>\n",
       "      <td>$376M</td>\n",
       "      <td>LTW Capital, Legend Capital, Qualcomm Ventures</td>\n",
       "      <td>June</td>\n",
       "      <td>8</td>\n",
       "    </tr>\n",
       "    <tr>\n",
       "      <th>42</th>\n",
       "      <td>Weilong Foods</td>\n",
       "      <td>$11B</td>\n",
       "      <td>2021-05-08</td>\n",
       "      <td>Consumer &amp; retail</td>\n",
       "      <td>Luohe</td>\n",
       "      <td>China</td>\n",
       "      <td>Asia</td>\n",
       "      <td>1999</td>\n",
       "      <td>$558M</td>\n",
       "      <td>Tencent Holdings, Hillhouse Capital Management...</td>\n",
       "      <td>May</td>\n",
       "      <td>22</td>\n",
       "    </tr>\n",
       "    <tr>\n",
       "      <th>44</th>\n",
       "      <td>Bolt</td>\n",
       "      <td>$11B</td>\n",
       "      <td>2021-10-08</td>\n",
       "      <td>Fintech</td>\n",
       "      <td>San Francisco</td>\n",
       "      <td>United States</td>\n",
       "      <td>North America</td>\n",
       "      <td>2014</td>\n",
       "      <td>$1B</td>\n",
       "      <td>Activant Capital, Tribe Capital, General Atlantic</td>\n",
       "      <td>October</td>\n",
       "      <td>7</td>\n",
       "    </tr>\n",
       "    <tr>\n",
       "      <th>51</th>\n",
       "      <td>Alchemy</td>\n",
       "      <td>$10B</td>\n",
       "      <td>2021-10-28</td>\n",
       "      <td>Fintech</td>\n",
       "      <td>San Francisco</td>\n",
       "      <td>United States</td>\n",
       "      <td>North America</td>\n",
       "      <td>2017</td>\n",
       "      <td>$564M</td>\n",
       "      <td>DFJ Growth Fund, Coatue Management, Addition</td>\n",
       "      <td>October</td>\n",
       "      <td>4</td>\n",
       "    </tr>\n",
       "  </tbody>\n",
       "</table>\n",
       "</div>"
      ],
      "text/plain": [
       "              Company Valuation Date Joined  \\\n",
       "12                FTX      $32B  2021-07-20   \n",
       "16        J&T Express      $20B  2021-04-07   \n",
       "24     Blockchain.com      $14B  2021-02-17   \n",
       "27            OpenSea      $13B  2021-07-20   \n",
       "34              Getir      $12B  2021-03-26   \n",
       "37           GoodLeap      $12B  2021-10-13   \n",
       "39  ZongMu Technology      $11B  2021-06-03   \n",
       "42      Weilong Foods      $11B  2021-05-08   \n",
       "44               Bolt      $11B  2021-10-08   \n",
       "51            Alchemy      $10B  2021-10-28   \n",
       "\n",
       "                               Industry           City  Country/Region  \\\n",
       "12                              Fintech            NaN         Bahamas   \n",
       "16  Supply chain, logistics, & delivery        Jakarta       Indonesia   \n",
       "24                              Fintech         London  United Kingdom   \n",
       "27      E-commerce & direct-to-consumer       New York   United States   \n",
       "34      E-commerce & direct-to-consumer       Istanbul          Turkey   \n",
       "37         Internet software & services      Roseville   United States   \n",
       "39                Auto & transportation       Shanghai           China   \n",
       "42                    Consumer & retail          Luohe           China   \n",
       "44                              Fintech  San Francisco   United States   \n",
       "51                              Fintech  San Francisco   United States   \n",
       "\n",
       "        Continent  Year Founded Funding  \\\n",
       "12  North America          2018     $2B   \n",
       "16           Asia          2015     $5B   \n",
       "24         Europe          2011   $490M   \n",
       "27  North America          2017   $427M   \n",
       "34         Europe          2015     $2B   \n",
       "37  North America          2003   $800M   \n",
       "39           Asia          2013   $376M   \n",
       "42           Asia          1999   $558M   \n",
       "44  North America          2014     $1B   \n",
       "51  North America          2017   $564M   \n",
       "\n",
       "                                     Select Investors Month Joined  \\\n",
       "12             Sequoia Capital, Thoma Bravo, Softbank         July   \n",
       "16  Hillhouse Capital Management, Boyu Capital, Se...        April   \n",
       "24  Lightspeed Venture Partners, Google Ventures, ...     February   \n",
       "27  Andreessen Horowitz, Thirty Five Ventures, Sou...         July   \n",
       "34  Tiger Global Management, Sequoia Capital, Revo...        March   \n",
       "37  New Enterprise Associates, BDT Capital Partner...      October   \n",
       "39     LTW Capital, Legend Capital, Qualcomm Ventures         June   \n",
       "42  Tencent Holdings, Hillhouse Capital Management...          May   \n",
       "44  Activant Capital, Tribe Capital, General Atlantic      October   \n",
       "51       DFJ Growth Fund, Coatue Management, Addition      October   \n",
       "\n",
       "    Years to Join  \n",
       "12              3  \n",
       "16              6  \n",
       "24             10  \n",
       "27              4  \n",
       "34              6  \n",
       "37             18  \n",
       "39              8  \n",
       "42             22  \n",
       "44              7  \n",
       "51              4  "
      ]
     },
     "execution_count": 13,
     "metadata": {},
     "output_type": "execute_result"
    }
   ],
   "source": [
    "# Filter dataset by a year of your interest (in terms of when companies reached unicorn status).\n",
    "# Save the resulting subset in a new variable. \n",
    "\n",
    "unicorn2021 = companies[companies[\"Date Joined\"].dt.year == 2021]\n",
    "\n",
    "\n",
    "\n",
    "# Display the first few rows of the subset to confirm that it was created.\n",
    "\n",
    "### YOUR CODE HERE ###\n",
    "\n",
    "unicorn2021.head(10)"
   ]
  },
  {
   "cell_type": "markdown",
   "metadata": {
    "id": "9SSCM6ZLHcKA",
    "jp-MarkdownHeadingCollapsed": true,
    "tags": []
   },
   "source": [
    "<details>\n",
    "  <summary><h4><strong>Hint 1</strong></h4></summary>\n",
    "\n",
    "Refer to [the content about structuring data in Python](https://www.coursera.org/learn/go-beyond-the-numbers-translate-data-into-insight/lecture/Vh13u/use-structuring-methods-to-establish-order-in-your-dataset).\n",
    "\n",
    "</details>"
   ]
  },
  {
   "cell_type": "markdown",
   "metadata": {
    "id": "UmyyfKj3HcKC",
    "jp-MarkdownHeadingCollapsed": true,
    "tags": []
   },
   "source": [
    "<details>\n",
    "  <summary><h4><strong>Hint 2</strong></h4></summary>\n",
    "\n",
    "Use the property in the `pandas` library that contains datetime strings in order to extract the year components.\n",
    "\n",
    "Use square brackets to filter a DataFrame in order get a subset of the data. Make sure to specify an appropriate condition inside those brackets. The condition should convey which year you want to filter by. The rows that meet the condition are the rows that will be selected.\n",
    "\n",
    "Use the function in the `pandas` library that allows you to display the first few rows of a DataFrame.\n",
    "\n",
    "</details>"
   ]
  },
  {
   "cell_type": "markdown",
   "metadata": {
    "id": "3NylFsIDHcKD",
    "jp-MarkdownHeadingCollapsed": true,
    "tags": []
   },
   "source": [
    "<details>\n",
    "  <summary><h4><strong>Hint 3</strong></h4></summary>\n",
    "\n",
    "Use the `dt.year` property on the `Date Joined` column to obtain the years that companies became unicorns.\n",
    "\n",
    "Make sure to create a new variable and assign it to the subset. \n",
    "\n",
    "Use the `head()` function to display the first few rows of a DataFrame.\n",
    "\n",
    "</details>"
   ]
  },
  {
   "cell_type": "markdown",
   "metadata": {
    "id": "xP7aPBulLnRA"
   },
   "source": [
    "**Question:** Using a time interval, how could you observe trends in the companies that became unicorns in one year?\n"
   ]
  },
  {
   "cell_type": "markdown",
   "metadata": {
    "id": "1LDyIGmtz_Tc"
   },
   "source": [
    "In a particular year, we can look into the months joined or week joined for the companies."
   ]
  },
  {
   "cell_type": "markdown",
   "metadata": {
    "id": "xMeC4PjILkAP"
   },
   "source": [
    "### Observe trends over time\n",
    "\n",
    "Implement the structuring approach that you have identified to observe trends over time in the companies that became unicorns for the year that interests you."
   ]
  },
  {
   "cell_type": "code",
   "execution_count": 14,
   "metadata": {
    "id": "RTPw3cRqPUI3"
   },
   "outputs": [
    {
     "data": {
      "text/html": [
       "<div>\n",
       "<style scoped>\n",
       "    .dataframe tbody tr th:only-of-type {\n",
       "        vertical-align: middle;\n",
       "    }\n",
       "\n",
       "    .dataframe tbody tr th {\n",
       "        vertical-align: top;\n",
       "    }\n",
       "\n",
       "    .dataframe thead th {\n",
       "        text-align: right;\n",
       "    }\n",
       "</style>\n",
       "<table border=\"1\" class=\"dataframe\">\n",
       "  <thead>\n",
       "    <tr style=\"text-align: right;\">\n",
       "      <th></th>\n",
       "      <th>Week Joined</th>\n",
       "      <th>Company Count</th>\n",
       "    </tr>\n",
       "  </thead>\n",
       "  <tbody>\n",
       "    <tr>\n",
       "      <th>0</th>\n",
       "      <td>2021-W01</td>\n",
       "      <td>12</td>\n",
       "    </tr>\n",
       "    <tr>\n",
       "      <th>1</th>\n",
       "      <td>2021-W02</td>\n",
       "      <td>9</td>\n",
       "    </tr>\n",
       "    <tr>\n",
       "      <th>2</th>\n",
       "      <td>2021-W03</td>\n",
       "      <td>5</td>\n",
       "    </tr>\n",
       "    <tr>\n",
       "      <th>3</th>\n",
       "      <td>2021-W04</td>\n",
       "      <td>8</td>\n",
       "    </tr>\n",
       "    <tr>\n",
       "      <th>4</th>\n",
       "      <td>2021-W05</td>\n",
       "      <td>4</td>\n",
       "    </tr>\n",
       "    <tr>\n",
       "      <th>5</th>\n",
       "      <td>2021-W06</td>\n",
       "      <td>3</td>\n",
       "    </tr>\n",
       "    <tr>\n",
       "      <th>6</th>\n",
       "      <td>2021-W07</td>\n",
       "      <td>9</td>\n",
       "    </tr>\n",
       "    <tr>\n",
       "      <th>7</th>\n",
       "      <td>2021-W08</td>\n",
       "      <td>6</td>\n",
       "    </tr>\n",
       "    <tr>\n",
       "      <th>8</th>\n",
       "      <td>2021-W09</td>\n",
       "      <td>8</td>\n",
       "    </tr>\n",
       "    <tr>\n",
       "      <th>9</th>\n",
       "      <td>2021-W10</td>\n",
       "      <td>7</td>\n",
       "    </tr>\n",
       "  </tbody>\n",
       "</table>\n",
       "</div>"
      ],
      "text/plain": [
       "  Week Joined  Company Count\n",
       "0    2021-W01             12\n",
       "1    2021-W02              9\n",
       "2    2021-W03              5\n",
       "3    2021-W04              8\n",
       "4    2021-W05              4\n",
       "5    2021-W06              3\n",
       "6    2021-W07              9\n",
       "7    2021-W08              6\n",
       "8    2021-W09              8\n",
       "9    2021-W10              7"
      ]
     },
     "execution_count": 14,
     "metadata": {},
     "output_type": "execute_result"
    }
   ],
   "source": [
    "# After identifying the time interval that interests you, proceed with the following:\n",
    "# Step 1. Take the subset that you defined for the year of interest. \n",
    "#         Insert a column that contains the time interval that each data point belongs to, as needed.\n",
    "# Step 2. Group by the time interval.\n",
    "#         Aggregate by counting companies that joined per interval of that year.\n",
    "#         Save the resulting DataFrame in a new variable.\n",
    "\n",
    "### YOUR CODE HERE ###\n",
    "unicorn2021['Week Joined'] = unicorn2021['Date Joined'].dt.strftime('%G-W%V')\n",
    "\n",
    "weekly_unicorn2021 = (\n",
    "    unicorn2021\n",
    "    .groupby('Week Joined')\n",
    "    .size()\n",
    "    .reset_index(name='Company Count')\n",
    ")\n",
    "\n",
    "# Display the first few rows of the new DataFrame to confirm that it was created\n",
    "\n",
    "### YOUR CODE HERE ###\n",
    "\n",
    "\n",
    "weekly_unicorn2021.head(10)"
   ]
  },
  {
   "cell_type": "markdown",
   "metadata": {
    "id": "y4o-jE96cL5r",
    "jp-MarkdownHeadingCollapsed": true,
    "tags": []
   },
   "source": [
    "<details>\n",
    "  <summary><h4><strong>Hint 1</strong></h4></summary>\n",
    "\n",
    "Refer to [the content about structuring data in Python](https://www.coursera.org/learn/go-beyond-the-numbers-translate-data-into-insight/lecture/Vh13u/use-structuring-methods-to-establish-order-in-your-dataset).\n",
    "\n",
    "</details>"
   ]
  },
  {
   "cell_type": "markdown",
   "metadata": {
    "id": "KpYfJ_etcL5t",
    "jp-MarkdownHeadingCollapsed": true,
    "tags": []
   },
   "source": [
    "<details>\n",
    "  <summary><h4><strong>Hint 2</strong></h4></summary>\n",
    "\n",
    "To obtain the data in a specific periodic datetime format, call a function in the `pandas` library on a series that contains datetime strings.   \n",
    "\n",
    "Keep in mind that currently, the `Valuation` column is of data type `object` and contains `$` and `B` to indicate that each amount is in billions of dollars.\n",
    "\n",
    "Call functions in the `pandas` library to achieve the following tasks:\n",
    "  - Apply a function to each value in the series.\n",
    "  - Cast each value in the series to a specified data type.\n",
    "\n",
    "Use a pair of square brackets to access a particular column from the result of grouping a DataFrame. \n",
    "\n",
    "Use these functions in the `pandas` library to achieve the following tasks:\n",
    "- Concatenate two DataFrames together\n",
    "- Drop columns that you do not need from a DataFrame\n",
    "- Group a DataFrame by a specific column\n",
    "- Compute the average value for each group\n",
    "- Reset the index so that the column that you grouped on also appears as a column after the grouping (instead of remaining an index) \n",
    "- Rename columns in a DataFrame\n",
    "- Display the first few rows of a DataFrame\n",
    "\n",
    "</details>"
   ]
  },
  {
   "cell_type": "markdown",
   "metadata": {
    "id": "fO62guTzcL5v",
    "jp-MarkdownHeadingCollapsed": true,
    "tags": []
   },
   "source": [
    "<details>\n",
    "  <summary><h4><strong>Hint 3</strong></h4></summary>\n",
    "\n",
    "Use `dt.strftime('%Y-W%V')` on the `Date Joined` column to obtain the weeks that companies became unicorns.\n",
    "\n",
    "Use these functions in `pandas` to acheive the following tasks:\n",
    "- `groupby()` to group a DataFrame by a specific column\n",
    "- `count()` to count the number of rows that belong to each group\n",
    "- `reset_index()` to reset the index so that the column that you grouped on also appears as a column after the grouping (instead of remaining an index) \n",
    "- `rename()` to rename the columns in a DataFrame\n",
    "- `head()` to display the first few rows of a DataFrame\n",
    "\n",
    "</details>"
   ]
  },
  {
   "cell_type": "markdown",
   "metadata": {
    "id": "vAPjV24TA7lA"
   },
   "source": [
    "**Question:** How would you structure the data to observe trends in the average valuation of companies from 2020 to 2021?  "
   ]
  },
  {
   "cell_type": "markdown",
   "metadata": {
    "id": "T5-Kc-zr0AzU"
   },
   "source": [
    "Firstly change valueation to number only, filter data to have 2020-2021 companies.\n",
    "Use quarters of the years to compare trends the valuation of the companies."
   ]
  },
  {
   "cell_type": "markdown",
   "metadata": {
    "id": "5vGITCLaA7lC"
   },
   "source": [
    "### Compare trends over time\n",
    "\n",
    "Implement the structuring approach that you have identified in order to compare trends over time in the average valuation of companies that became unicorns in the year you selected above and in another year of your choice. Keep in mind the data type of the `Valuation` column and what the values in that column contain currently."
   ]
  },
  {
   "cell_type": "code",
   "execution_count": 15,
   "metadata": {
    "id": "pQ3sXSbaA7lD"
   },
   "outputs": [
    {
     "data": {
      "text/html": [
       "<div>\n",
       "<style scoped>\n",
       "    .dataframe tbody tr th:only-of-type {\n",
       "        vertical-align: middle;\n",
       "    }\n",
       "\n",
       "    .dataframe tbody tr th {\n",
       "        vertical-align: top;\n",
       "    }\n",
       "\n",
       "    .dataframe thead th {\n",
       "        text-align: right;\n",
       "    }\n",
       "</style>\n",
       "<table border=\"1\" class=\"dataframe\">\n",
       "  <thead>\n",
       "    <tr style=\"text-align: right;\">\n",
       "      <th></th>\n",
       "      <th>Year</th>\n",
       "      <th>Interval</th>\n",
       "      <th>Avg Valuation (B)</th>\n",
       "    </tr>\n",
       "  </thead>\n",
       "  <tbody>\n",
       "    <tr>\n",
       "      <th>0</th>\n",
       "      <td>2020</td>\n",
       "      <td>2020-Q1</td>\n",
       "      <td>3.444444</td>\n",
       "    </tr>\n",
       "    <tr>\n",
       "      <th>1</th>\n",
       "      <td>2020</td>\n",
       "      <td>2020-Q2</td>\n",
       "      <td>3.777778</td>\n",
       "    </tr>\n",
       "    <tr>\n",
       "      <th>2</th>\n",
       "      <td>2020</td>\n",
       "      <td>2020-Q3</td>\n",
       "      <td>3.896552</td>\n",
       "    </tr>\n",
       "    <tr>\n",
       "      <th>3</th>\n",
       "      <td>2020</td>\n",
       "      <td>2020-Q4</td>\n",
       "      <td>3.697674</td>\n",
       "    </tr>\n",
       "    <tr>\n",
       "      <th>4</th>\n",
       "      <td>2021</td>\n",
       "      <td>2021-Q1</td>\n",
       "      <td>2.750000</td>\n",
       "    </tr>\n",
       "  </tbody>\n",
       "</table>\n",
       "</div>"
      ],
      "text/plain": [
       "   Year Interval  Avg Valuation (B)\n",
       "0  2020  2020-Q1           3.444444\n",
       "1  2020  2020-Q2           3.777778\n",
       "2  2020  2020-Q3           3.896552\n",
       "3  2020  2020-Q4           3.697674\n",
       "4  2021  2021-Q1           2.750000"
      ]
     },
     "execution_count": 15,
     "metadata": {},
     "output_type": "execute_result"
    }
   ],
   "source": [
    "# After identifying the additional year and time interval of interest, proceed with the following:\n",
    "# Step 1. Filter by the additional year to create a subset that consists of companies that joined in that year.\n",
    "# Step 2. Concatenate that new subset with the subset that you defined previously.\n",
    "# Step 3. As needed, add a column that contains the time interval that each data point belongs to, \n",
    "#         in the concatenated DataFrame.\n",
    "# Step 4. Transform the `Valuation` column as needed.\n",
    "# Step 5. Group by the time interval.\n",
    "#         Aggregate by computing average valuation of companies that joined per interval of the corresponding year.\n",
    "#         Save the resulting DataFrame in a new variable.\n",
    "\n",
    "### YOUR CODE HERE ###\n",
    "unicorn2020 = companies[companies[\"Date Joined\"].dt.year == 2020]\n",
    "\n",
    "union_df = pd.concat(\n",
    "    [unicorn2021.drop(columns=[\"Week Joined\"]), unicorn2020],\n",
    "    ignore_index=True\n",
    ")\n",
    "union_df [\"Year\"] = union_df[\"Date Joined\"].dt.year\n",
    "union_df [\"Quarters\"] = union_df[\"Date Joined\"].dt.to_period('Q')\n",
    "union_df[\"Interval\"] = union_df[\"Quarters\"].dt.strftime(\"%Y-Q%q\")\n",
    "\n",
    "union_df[\"Valuation\"] = union_df[\"Valuation\"].str.replace('$','')\n",
    "union_df[\"Valuation\"] = union_df[\"Valuation\"].str.replace('B','')\n",
    "union_df[\"Valuation\"] = union_df[\"Valuation\"].astype('float')\n",
    "# Display the first few rows of the new DataFrame to confirm that it was created.\n",
    "union_df.head()\n",
    "### YOUR CODE HERE ###\n",
    "avg_valuation = union_df.groupby(['Year', 'Interval'])[\"Valuation\"].mean().reset_index(name=\"Avg Valuation (B)\").sort_values([\"Interval\",\"Year\"])\n",
    "\n",
    "avg_valuation.head()"
   ]
  },
  {
   "cell_type": "markdown",
   "metadata": {
    "id": "CJoxASljNvH6",
    "jp-MarkdownHeadingCollapsed": true,
    "tags": []
   },
   "source": [
    "\n",
    "<details>\n",
    "  <summary><h4><strong>Hint 1</strong></h4></summary>\n",
    "\n",
    "Refer to [the content about manipulating data in Python](https://www.coursera.org/learn/go-beyond-the-numbers-translate-data-into-insight/lecture/0GjvK/date-string-manipulations-with-python).\n",
    "\n",
    "</details>\n"
   ]
  },
  {
   "cell_type": "markdown",
   "metadata": {
    "id": "qoXGc_naNvH8",
    "jp-MarkdownHeadingCollapsed": true,
    "tags": []
   },
   "source": [
    "<details>\n",
    "  <summary><h4><strong>Hint 2</strong></h4></summary>\n",
    "\n",
    "To obtain the data in a specific periodic datetime format, call a function in the `pandas` library on a series that contains datetime strings.   \n",
    "\n",
    "Keep in mind that currently, the `Valuation` column is of data type `object` and contains `$` and `B` to indicate that each amount is in billions of dollars.\n",
    "\n",
    "Call functions in the `pandas` library on a series to acheive the following tasks:\n",
    "  - Apply a function to each value in the series.\n",
    "  - Cast each value in the series to a specified data type.\n",
    "\n",
    "Use a pair of square brackets to access a particular column from the result of grouping a DataFrame. \n",
    "\n",
    "These functions in the `pandas` library can help achieve the following tasks:\n",
    "- Concatenate two DataFrames together\n",
    "- Drop columns that you do not need from a DataFrame\n",
    "- Group a DataFrame by a specific column\n",
    "- Compute the average value for each group\n",
    "- Reset the index so that the column that you grouped on also appears as a column after the grouping (instead of remaining an index) \n",
    "- Rename columns in a DataFrame\n",
    "- Display the first few rows of a DataFrame\n",
    "\n",
    "</details>"
   ]
  },
  {
   "cell_type": "markdown",
   "metadata": {
    "id": "jRVnh5ZFNvH-",
    "jp-MarkdownHeadingCollapsed": true,
    "tags": []
   },
   "source": [
    "<details>\n",
    "  <summary><h4><strong>Hint 3</strong></h4></summary>\n",
    "\n",
    "Use `.dt.to_period('Q').dt.strftime('%Y-Q%q')` on the `Date Joined` column to obtain the quarters during which companies became unicorns.\n",
    "\n",
    "Convert the `Valuation` column to numeric by removing `$` and `B` and casting each value to data type `float`.\n",
    "\n",
    "Use the following functions in `pandas` to acheive the following tasks:\n",
    "- `concat` to concatenate two DataFrames together (note: this function takes in a list of DataFrames and returns a DataFrame that contains all rows from both inputs)\n",
    "- `drop()` to drop columns that you do not need from a DataFrame\n",
    "- `groupby()` to group a DataFrame by a specific column\n",
    "- `mean()` to compute the average value for each group\n",
    "- `reset_index()` to reset the index so that the column that you grouped on also appears as a column after the grouping (instead of remaining an index) \n",
    "- `rename()` to rename the columns in a DataFrame\n",
    "- `head()` to display the first few rows of a DataFrame\n",
    "\n",
    "</details>"
   ]
  },
  {
   "cell_type": "markdown",
   "metadata": {
    "id": "w_HtFyHrXVAc"
   },
   "source": [
    "## Step 3: Time-to-unicorn visualization\n",
    "\n",
    "### Visualize the time it took companies to become unicorns\n",
    "\n",
    "Using the `companies` dataset, create a box plot to visualize the distribution of how long it took companies to become unicorns, with respect to the month they joined. "
   ]
  },
  {
   "cell_type": "code",
   "execution_count": 16,
   "metadata": {
    "id": "4GT0qtPUIlzD"
   },
   "outputs": [
    {
     "data": {
      "text/plain": [
       "['January',\n",
       " 'February',\n",
       " 'March',\n",
       " 'April',\n",
       " 'May',\n",
       " 'June',\n",
       " 'July',\n",
       " 'August',\n",
       " 'September',\n",
       " 'October',\n",
       " 'November',\n",
       " 'December']"
      ]
     },
     "execution_count": 16,
     "metadata": {},
     "output_type": "execute_result"
    }
   ],
   "source": [
    "# Define a list that contains months in chronological order.\n",
    "month_order = ['January', 'February', 'March','April','May','June','July','August','September','October','November','December']\n",
    "month_order"
   ]
  },
  {
   "cell_type": "code",
   "execution_count": 17,
   "metadata": {
    "id": "7V-NPXUCIhCT"
   },
   "outputs": [
    {
     "data": {
      "image/png": "[encoded data removed]",
      "text/plain": [
       "<Figure size 432x288 with 1 Axes>"
      ]
     },
     "metadata": {
      "needs_background": "light"
     },
     "output_type": "display_data"
    }
   ],
   "source": [
    "# Create the box plot to visualize the distribution of how long it took companies to become unicorns, with respect to the month they joined.\n",
    "# Make sure the x-axis goes in chronological order by month, using the list you defined previously.\n",
    "# Plot the data from the `companies` DataFrame.\n",
    "\n",
    "\n",
    "companies.head()\n",
    "g = sns.boxplot( \n",
    "data = companies,\n",
    "x = \"Month Joined\",\n",
    "y = \"Years to Join\",\n",
    "order = month_order,\n",
    "showfliers = False\n",
    ");\n",
    "\n",
    "# Set the title of the plot.\n",
    "g.set_title(\"Years-to-Unicorn in respect to Month Joined\")\n",
    "\n",
    "# Rotate labels on the x-axis as a way to avoid overlap in the positions of the text.  \n",
    "plt.xticks(rotation = 45, ha='right')\n",
    "\n",
    "# Display the plot.\n",
    "plt.show()\n"
   ]
  },
  {
   "cell_type": "markdown",
   "metadata": {
    "id": "h87KDAzQNhJH",
    "jp-MarkdownHeadingCollapsed": true,
    "tags": []
   },
   "source": [
    "<details>\n",
    "  <summary><h4><strong>Hint 1</strong></h4></summary>\n",
    "\n",
    "Refer to [the content about creating a box plot](https://www.coursera.org/learn/go-beyond-the-numbers-translate-data-into-insight/lecture/Pf6KW/eda-structuring-with-python).\n",
    "\n",
    "</details>"
   ]
  },
  {
   "cell_type": "markdown",
   "metadata": {
    "id": "aZBJ8VOrNhJI",
    "jp-MarkdownHeadingCollapsed": true,
    "tags": []
   },
   "source": [
    "<details>\n",
    "  <summary><h4><strong>Hint 2</strong></h4></summary>\n",
    "\n",
    "Use the function in the `seaborn` library that allows you to create a box plot.\n",
    "\n",
    "Use the functions in the `matplotlib.pyplot` module that allow you to acheive the following tasks:\n",
    "- set the title of a plot\n",
    "- rotate labels on the x-axis of a plot\n",
    "- display a plot\n",
    "\n",
    "</details>"
   ]
  },
  {
   "cell_type": "markdown",
   "metadata": {
    "id": "GPdd3MfDNhJK",
    "jp-MarkdownHeadingCollapsed": true,
    "tags": []
   },
   "source": [
    "<details>\n",
    "  <summary><h4><strong>Hint 3</strong></h4></summary>\n",
    "\n",
    "Use the `boxplot()` function from `seaborn` to create a box plot, passing in the parameters `x`, `y`, `order`, and `showfliers`. To keep outliers from appearing on the box plot, set `showfliers` to `False`.\n",
    "\n",
    "Use following functions to achieve the following tasks:\n",
    "- `plt.title()` to set the title of a plot\n",
    "- `plt.xticks()` to rotate labels on the x-axis of a plot\n",
    "- pass in the parameters `rotation=45, horizontalalignment='right'`to rotate the labels by 45 degrees and align the labels to the right\n",
    "- `plt.show()` to display a plot\n",
    "\n",
    "</details>"
   ]
  },
  {
   "cell_type": "markdown",
   "metadata": {
    "id": "hJhdI_Y7LK8e"
   },
   "source": [
    "**Question:** In the preceding box plot, what do you observe about the median value for `Years To Join` for each month?\n"
   ]
  },
  {
   "cell_type": "markdown",
   "metadata": {
    "id": "rLUHSsZl0Cmt"
   },
   "source": [
    "The median for all months lies between a range of 5.0 to 7.5 years. The low was in fall in the months of September and October which could mean that the companies that became unicorn companies in those months took less time to reach the valuation of $1B"
   ]
  },
  {
   "cell_type": "markdown",
   "metadata": {
    "id": "gq9Syq-Cq1zb"
   },
   "source": [
    "## Step 4: Results and evaluation\n"
   ]
  },
  {
   "cell_type": "markdown",
   "metadata": {
    "id": "10beff64-16e0-464d-93f0-03ab61f7069b",
    "tags": []
   },
   "source": [
    "### Visualize the time it took companies to reach unicorn status\n",
    "\n",
    "In this section, you will evaluate the result of structuring the data, making observations, and gaining further insights about the data. \n",
    "\n",
    "Using the `companies` dataset, create a bar plot to visualize the average number of years it took companies to reach unicorn status with respect to when they were founded. "
   ]
  },
  {
   "cell_type": "code",
   "execution_count": 18,
   "metadata": {},
   "outputs": [
    {
     "data": {
      "text/html": [
       "<div>\n",
       "<style scoped>\n",
       "    .dataframe tbody tr th:only-of-type {\n",
       "        vertical-align: middle;\n",
       "    }\n",
       "\n",
       "    .dataframe tbody tr th {\n",
       "        vertical-align: top;\n",
       "    }\n",
       "\n",
       "    .dataframe thead th {\n",
       "        text-align: right;\n",
       "    }\n",
       "</style>\n",
       "<table border=\"1\" class=\"dataframe\">\n",
       "  <thead>\n",
       "    <tr style=\"text-align: right;\">\n",
       "      <th></th>\n",
       "      <th>Company</th>\n",
       "      <th>Valuation</th>\n",
       "      <th>Date Joined</th>\n",
       "      <th>Industry</th>\n",
       "      <th>City</th>\n",
       "      <th>Country/Region</th>\n",
       "      <th>Continent</th>\n",
       "      <th>Year Founded</th>\n",
       "      <th>Funding</th>\n",
       "      <th>Select Investors</th>\n",
       "      <th>Month Joined</th>\n",
       "      <th>Years to Join</th>\n",
       "    </tr>\n",
       "  </thead>\n",
       "  <tbody>\n",
       "    <tr>\n",
       "      <th>0</th>\n",
       "      <td>Bytedance</td>\n",
       "      <td>$180B</td>\n",
       "      <td>2017-04-07</td>\n",
       "      <td>Artificial intelligence</td>\n",
       "      <td>Beijing</td>\n",
       "      <td>China</td>\n",
       "      <td>Asia</td>\n",
       "      <td>2012</td>\n",
       "      <td>$8B</td>\n",
       "      <td>Sequoia Capital China, SIG Asia Investments, S...</td>\n",
       "      <td>April</td>\n",
       "      <td>5</td>\n",
       "    </tr>\n",
       "    <tr>\n",
       "      <th>1</th>\n",
       "      <td>SpaceX</td>\n",
       "      <td>$100B</td>\n",
       "      <td>2012-12-01</td>\n",
       "      <td>Other</td>\n",
       "      <td>Hawthorne</td>\n",
       "      <td>United States</td>\n",
       "      <td>North America</td>\n",
       "      <td>2002</td>\n",
       "      <td>$7B</td>\n",
       "      <td>Founders Fund, Draper Fisher Jurvetson, Rothen...</td>\n",
       "      <td>December</td>\n",
       "      <td>10</td>\n",
       "    </tr>\n",
       "    <tr>\n",
       "      <th>2</th>\n",
       "      <td>SHEIN</td>\n",
       "      <td>$100B</td>\n",
       "      <td>2018-07-03</td>\n",
       "      <td>E-commerce &amp; direct-to-consumer</td>\n",
       "      <td>Shenzhen</td>\n",
       "      <td>China</td>\n",
       "      <td>Asia</td>\n",
       "      <td>2008</td>\n",
       "      <td>$2B</td>\n",
       "      <td>Tiger Global Management, Sequoia Capital China...</td>\n",
       "      <td>July</td>\n",
       "      <td>10</td>\n",
       "    </tr>\n",
       "    <tr>\n",
       "      <th>3</th>\n",
       "      <td>Stripe</td>\n",
       "      <td>$95B</td>\n",
       "      <td>2014-01-23</td>\n",
       "      <td>Fintech</td>\n",
       "      <td>San Francisco</td>\n",
       "      <td>United States</td>\n",
       "      <td>North America</td>\n",
       "      <td>2010</td>\n",
       "      <td>$2B</td>\n",
       "      <td>Khosla Ventures, LowercaseCapital, capitalG</td>\n",
       "      <td>January</td>\n",
       "      <td>4</td>\n",
       "    </tr>\n",
       "    <tr>\n",
       "      <th>4</th>\n",
       "      <td>Klarna</td>\n",
       "      <td>$46B</td>\n",
       "      <td>2011-12-12</td>\n",
       "      <td>Fintech</td>\n",
       "      <td>Stockholm</td>\n",
       "      <td>Sweden</td>\n",
       "      <td>Europe</td>\n",
       "      <td>2005</td>\n",
       "      <td>$4B</td>\n",
       "      <td>Institutional Venture Partners, Sequoia Capita...</td>\n",
       "      <td>December</td>\n",
       "      <td>6</td>\n",
       "    </tr>\n",
       "  </tbody>\n",
       "</table>\n",
       "</div>"
      ],
      "text/plain": [
       "     Company Valuation Date Joined                         Industry  \\\n",
       "0  Bytedance     $180B  2017-04-07          Artificial intelligence   \n",
       "1     SpaceX     $100B  2012-12-01                            Other   \n",
       "2      SHEIN     $100B  2018-07-03  E-commerce & direct-to-consumer   \n",
       "3     Stripe      $95B  2014-01-23                          Fintech   \n",
       "4     Klarna      $46B  2011-12-12                          Fintech   \n",
       "\n",
       "            City Country/Region      Continent  Year Founded Funding  \\\n",
       "0        Beijing          China           Asia          2012     $8B   \n",
       "1      Hawthorne  United States  North America          2002     $7B   \n",
       "2       Shenzhen          China           Asia          2008     $2B   \n",
       "3  San Francisco  United States  North America          2010     $2B   \n",
       "4      Stockholm         Sweden         Europe          2005     $4B   \n",
       "\n",
       "                                    Select Investors Month Joined  \\\n",
       "0  Sequoia Capital China, SIG Asia Investments, S...        April   \n",
       "1  Founders Fund, Draper Fisher Jurvetson, Rothen...     December   \n",
       "2  Tiger Global Management, Sequoia Capital China...         July   \n",
       "3        Khosla Ventures, LowercaseCapital, capitalG      January   \n",
       "4  Institutional Venture Partners, Sequoia Capita...     December   \n",
       "\n",
       "   Years to Join  \n",
       "0              5  \n",
       "1             10  \n",
       "2             10  \n",
       "3              4  \n",
       "4              6  "
      ]
     },
     "execution_count": 18,
     "metadata": {},
     "output_type": "execute_result"
    }
   ],
   "source": [
    "companies.head()"
   ]
  },
  {
   "cell_type": "code",
   "execution_count": 19,
   "metadata": {
    "id": "1153ca76-f1e3-4fea-a2db-a5de23614abd"
   },
   "outputs": [
    {
     "data": {
      "image/png": "[encoded data removed]",
      "text/plain": [
       "<Figure size 1080x720 with 1 Axes>"
      ]
     },
     "metadata": {
      "needs_background": "light"
     },
     "output_type": "display_data"
    }
   ],
   "source": [
    "# Set the size of the plot.\n",
    "\n",
    "plt.figure(figsize = (15,10))\n",
    "\n",
    "\n",
    "# Create bar plot to visualize the average number of years it took companies to reach unicorn status \n",
    "# with respect to when they were founded.\n",
    "# Plot data from the `companies` DataFrame.\n",
    "\n",
    "sns.barplot(\n",
    "    data = companies,\n",
    "    x = 'Year Founded',\n",
    "    y = 'Years to Join',\n",
    "    ci = False\n",
    ")\n",
    "\n",
    "# Set title\n",
    "plt.title = (\"Average years to Join wrt Year Founded\")\n",
    "\n",
    "# Set x-axis label\n",
    "plt.xlabel(\"Year Founded\")\n",
    "\n",
    "# Set y-axis label\n",
    "plt.ylabel(\"Average years to Join\")\n",
    "\n",
    "# Rotate the labels on the x-axis as a way to avoid overlap in the positions of the text.  \n",
    "plt.xticks(rotation = 45, ha = 'right')\n",
    "\n",
    "# Display the plot.\n",
    "plt.show()"
   ]
  },
  {
   "cell_type": "markdown",
   "metadata": {
    "id": "MWYLsImtOmaU",
    "jp-MarkdownHeadingCollapsed": true,
    "tags": []
   },
   "source": [
    "<details>\n",
    "  <summary><h4><strong>Hint 1</strong></h4></summary>\n",
    "\n",
    "Refer to [the content about creating a bar plot](https://www.coursera.org/learn/go-beyond-the-numbers-translate-data-into-insight/lecture/0GjvK/date-string-manipulations-with-python).\n",
    "\n",
    "</details>"
   ]
  },
  {
   "cell_type": "markdown",
   "metadata": {
    "id": "Na6eMkR8OmaW",
    "jp-MarkdownHeadingCollapsed": true,
    "tags": []
   },
   "source": [
    "<details>\n",
    "  <summary><h4><strong>Hint 2</strong></h4></summary>\n",
    "\n",
    "Use the function in the `seaborn` library that allows you to create a bar plot where the height of each bar is the average value for the corresponding category, by default.\n",
    "\n",
    "Use the functions in the `matplotlib.pyplot` module that allow you to set the size, title, x-axis label, and y-axis label of plots. In that module, there are also functions for rotating the labels on the x-axis and displaying the plot. \n",
    "\n",
    "</details>"
   ]
  },
  {
   "cell_type": "markdown",
   "metadata": {
    "id": "0x0AkrQ_OmaX",
    "jp-MarkdownHeadingCollapsed": true,
    "tags": []
   },
   "source": [
    "<details>\n",
    "  <summary><h4><strong>Hint 3</strong></h4></summary>\n",
    "\n",
    "Use the `barplot()` function from `seaborn`, passing in the parameters `x`, `y`, and `ci`. To keep confidence interval lines from appearing on the bar plot,  set `ci` to `False`.\n",
    "\n",
    "Use `plt.figure()`, passing in the `figsize` parameter to set the size of a plot.\n",
    "\n",
    "Use `plt.title()`, `plt.xlabel()`, `plt.ylabel()` to set the title, x-axis label, and y-axis label, respectively. \n",
    "\n",
    "Use `plt.xticks()` to rotate labels on the x-axis of a plot. Paass in the parameters `rotation=45, horizontalalignment='right'` to rotate the labels by 45 degrees and align the labels to the right.\n",
    "\n",
    "Use `plt.show()` to display a plot.\n",
    "\n",
    "</details>"
   ]
  },
  {
   "cell_type": "markdown",
   "metadata": {
    "id": "xDwKa-UDOmaX"
   },
   "source": [
    "**Question:** What trends do you notice in the data? Specifically, consider companies that were founded later on. How long did it take those companies to reach unicorn status?\n"
   ]
  },
  {
   "cell_type": "markdown",
   "metadata": {
    "id": "EapccSkH0Don"
   },
   "source": [
    "The later the company was founded, the quicker it gained the status of Unicorn Company i.e. had an evaluation of $1B."
   ]
  },
  {
   "cell_type": "markdown",
   "metadata": {
    "id": "M9iBEnnStJPJ"
   },
   "source": [
    "### Visualize the number of companies that joined per interval \n",
    "\n",
    "Using the subset of companies joined in the year of interest, grouped by the time interval of your choice, create a bar plot to visualize the number of companies that joined per interval for that year. "
   ]
  },
  {
   "cell_type": "code",
   "execution_count": 20,
   "metadata": {},
   "outputs": [
    {
     "data": {
      "text/html": [
       "<div>\n",
       "<style scoped>\n",
       "    .dataframe tbody tr th:only-of-type {\n",
       "        vertical-align: middle;\n",
       "    }\n",
       "\n",
       "    .dataframe tbody tr th {\n",
       "        vertical-align: top;\n",
       "    }\n",
       "\n",
       "    .dataframe thead th {\n",
       "        text-align: right;\n",
       "    }\n",
       "</style>\n",
       "<table border=\"1\" class=\"dataframe\">\n",
       "  <thead>\n",
       "    <tr style=\"text-align: right;\">\n",
       "      <th></th>\n",
       "      <th>Week Joined</th>\n",
       "      <th>Company Count</th>\n",
       "    </tr>\n",
       "  </thead>\n",
       "  <tbody>\n",
       "    <tr>\n",
       "      <th>0</th>\n",
       "      <td>2021-W01</td>\n",
       "      <td>12</td>\n",
       "    </tr>\n",
       "    <tr>\n",
       "      <th>1</th>\n",
       "      <td>2021-W02</td>\n",
       "      <td>9</td>\n",
       "    </tr>\n",
       "    <tr>\n",
       "      <th>2</th>\n",
       "      <td>2021-W03</td>\n",
       "      <td>5</td>\n",
       "    </tr>\n",
       "    <tr>\n",
       "      <th>3</th>\n",
       "      <td>2021-W04</td>\n",
       "      <td>8</td>\n",
       "    </tr>\n",
       "    <tr>\n",
       "      <th>4</th>\n",
       "      <td>2021-W05</td>\n",
       "      <td>4</td>\n",
       "    </tr>\n",
       "  </tbody>\n",
       "</table>\n",
       "</div>"
      ],
      "text/plain": [
       "  Week Joined  Company Count\n",
       "0    2021-W01             12\n",
       "1    2021-W02              9\n",
       "2    2021-W03              5\n",
       "3    2021-W04              8\n",
       "4    2021-W05              4"
      ]
     },
     "execution_count": 20,
     "metadata": {},
     "output_type": "execute_result"
    }
   ],
   "source": [
    "weekly_unicorn2021.head()"
   ]
  },
  {
   "cell_type": "code",
   "execution_count": 21,
   "metadata": {
    "id": "BTdJdubxplHc"
   },
   "outputs": [
    {
     "data": {
      "image/png": "[encoded data removed]",
      "text/plain": [
       "<Figure size 2880x720 with 1 Axes>"
      ]
     },
     "metadata": {
      "needs_background": "light"
     },
     "output_type": "display_data"
    }
   ],
   "source": [
    "# Set the size of the plot.\n",
    "\n",
    "plt.figure(figsize = (40,10))\n",
    "\n",
    "\n",
    "# Create bar plot to visualize number of companies that joined per interval for the year of interest.\n",
    "sns.barplot(\n",
    "    data = weekly_unicorn2021,\n",
    "    x = 'Week Joined',\n",
    "    y = 'Company Count'\n",
    ")\n",
    "# Set the x-axis label.\n",
    "plt.xlabel(\"Week\")\n",
    "\n",
    "# Set the y-axis label.\n",
    "plt.ylabel(\"Number of Companies\")\n",
    "\n",
    "# Set the title.\n",
    "plt.title = (\"Companies joined per week in 2021\")\n",
    "\n",
    "# Rotate labels on the x-axis as a way to avoid overlap in the positions of the text.  \n",
    "plt.xticks(rotation = 45, ha = 'right')\n",
    "\n",
    "# Display the plot.\n",
    "plt.show()\n",
    "\n"
   ]
  },
  {
   "cell_type": "markdown",
   "metadata": {
    "id": "BtgkB4fVudvo",
    "jp-MarkdownHeadingCollapsed": true,
    "tags": []
   },
   "source": [
    "<details>\n",
    "  <summary><h4><strong>Hint 1</strong></h4></summary>\n",
    "\n",
    "Refer to [the content about creating a bar plot](https://www.coursera.org/learn/go-beyond-the-numbers-translate-data-into-insight/lecture/0GjvK/date-string-manipulations-with-python).\n",
    "\n",
    "</details>"
   ]
  },
  {
   "cell_type": "markdown",
   "metadata": {
    "id": "bHCMc83Nudvq",
    "jp-MarkdownHeadingCollapsed": true,
    "tags": []
   },
   "source": [
    "<details>\n",
    "  <summary><h4><strong>Hint 2</strong></h4></summary>\n",
    "\n",
    "Use the function in the `seaborn` library that allows you to create a bar plot where the height of each bar is the average value for the corresponding category, by default.\n",
    "\n",
    "Use the functions in the `matplotlib.pyplot` module that allow you to set the size, title, x-axis label, and y-axis label of plots. In that module, there are also functions for rotating the labels on the x-axis and displaying the plot. \n",
    "\n",
    "</details>"
   ]
  },
  {
   "cell_type": "markdown",
   "metadata": {
    "id": "ttH8ynAyudvr",
    "jp-MarkdownHeadingCollapsed": true,
    "tags": []
   },
   "source": [
    "<details>\n",
    "  <summary><h4><strong>Hint 3</strong></h4></summary>\n",
    "\n",
    "Use the `barplot()` function from `seaborn`, passing in the parameters `x`, `y`, and `ci`. To keep confidence interval lines from appearing on the bar plot,  set `ci` to `False`.\n",
    "\n",
    "Use `plt.figure()`, passing in the `figsize` parameter to set the size of a plot.\n",
    "\n",
    "Use `plt.title()`, `plt.xlabel()`, `plt.ylabel()` to set the title, x-axis label, and y-axis label, respectively. \n",
    "\n",
    "Use `plt.xticks()` to rotate labels on the x-axis of a plot. Paass in the parameters `rotation=45, horizontalalignment='right'` to rotate the labels by 45 degrees and align the labels to the right.\n",
    "\n",
    "Use `plt.show()` to display a plot.\n",
    "\n",
    "</details>"
   ]
  },
  {
   "cell_type": "markdown",
   "metadata": {
    "id": "NEsKdFw8sdMJ"
   },
   "source": [
    "**Question:** What do you observe from the bar plot of the number of companies that joined per interval for the year of 2021? When did the highest number of companies reach $1 billion valuation?\n",
    "\n",
    "  "
   ]
  },
  {
   "cell_type": "markdown",
   "metadata": {
    "id": "bLmFY7jR0Ewi"
   },
   "source": [
    "Most No. in Week 27 of 2021."
   ]
  },
  {
   "cell_type": "markdown",
   "metadata": {
    "id": "izcgBCbZhC4w"
   },
   "source": [
    "### Visualize the average valuation over the quarters\n",
    "\n",
    "Using the subset of companies that joined in the years of interest, create a grouped bar plot to visualize the average valuation over the quarters, with two bars for each time interval. There will be two bars for each time interval. This allows you to compare quarterly values between the two years."
   ]
  },
  {
   "cell_type": "code",
   "execution_count": 22,
   "metadata": {
    "scrolled": true
   },
   "outputs": [
    {
     "data": {
      "text/html": [
       "<div>\n",
       "<style scoped>\n",
       "    .dataframe tbody tr th:only-of-type {\n",
       "        vertical-align: middle;\n",
       "    }\n",
       "\n",
       "    .dataframe tbody tr th {\n",
       "        vertical-align: top;\n",
       "    }\n",
       "\n",
       "    .dataframe thead th {\n",
       "        text-align: right;\n",
       "    }\n",
       "</style>\n",
       "<table border=\"1\" class=\"dataframe\">\n",
       "  <thead>\n",
       "    <tr style=\"text-align: right;\">\n",
       "      <th></th>\n",
       "      <th>Year</th>\n",
       "      <th>Interval</th>\n",
       "      <th>Avg Valuation (B)</th>\n",
       "    </tr>\n",
       "  </thead>\n",
       "  <tbody>\n",
       "    <tr>\n",
       "      <th>0</th>\n",
       "      <td>2020</td>\n",
       "      <td>2020-Q1</td>\n",
       "      <td>3.444444</td>\n",
       "    </tr>\n",
       "    <tr>\n",
       "      <th>1</th>\n",
       "      <td>2020</td>\n",
       "      <td>2020-Q2</td>\n",
       "      <td>3.777778</td>\n",
       "    </tr>\n",
       "    <tr>\n",
       "      <th>2</th>\n",
       "      <td>2020</td>\n",
       "      <td>2020-Q3</td>\n",
       "      <td>3.896552</td>\n",
       "    </tr>\n",
       "    <tr>\n",
       "      <th>3</th>\n",
       "      <td>2020</td>\n",
       "      <td>2020-Q4</td>\n",
       "      <td>3.697674</td>\n",
       "    </tr>\n",
       "    <tr>\n",
       "      <th>4</th>\n",
       "      <td>2021</td>\n",
       "      <td>2021-Q1</td>\n",
       "      <td>2.750000</td>\n",
       "    </tr>\n",
       "    <tr>\n",
       "      <th>5</th>\n",
       "      <td>2021</td>\n",
       "      <td>2021-Q2</td>\n",
       "      <td>2.340278</td>\n",
       "    </tr>\n",
       "    <tr>\n",
       "      <th>6</th>\n",
       "      <td>2021</td>\n",
       "      <td>2021-Q3</td>\n",
       "      <td>2.291045</td>\n",
       "    </tr>\n",
       "    <tr>\n",
       "      <th>7</th>\n",
       "      <td>2021</td>\n",
       "      <td>2021-Q4</td>\n",
       "      <td>1.850746</td>\n",
       "    </tr>\n",
       "  </tbody>\n",
       "</table>\n",
       "</div>"
      ],
      "text/plain": [
       "   Year Interval  Avg Valuation (B)\n",
       "0  2020  2020-Q1           3.444444\n",
       "1  2020  2020-Q2           3.777778\n",
       "2  2020  2020-Q3           3.896552\n",
       "3  2020  2020-Q4           3.697674\n",
       "4  2021  2021-Q1           2.750000\n",
       "5  2021  2021-Q2           2.340278\n",
       "6  2021  2021-Q3           2.291045\n",
       "7  2021  2021-Q4           1.850746"
      ]
     },
     "execution_count": 22,
     "metadata": {},
     "output_type": "execute_result"
    }
   ],
   "source": [
    "avg_valuation"
   ]
  },
  {
   "cell_type": "code",
   "execution_count": 23,
   "metadata": {
    "id": "IC1cFf2ci6Q6",
    "scrolled": true
   },
   "outputs": [
    {
     "data": {
      "image/png": "[encoded data removed]",
      "text/plain": [
       "<Figure size 720x360 with 1 Axes>"
      ]
     },
     "metadata": {
      "needs_background": "light"
     },
     "output_type": "display_data"
    }
   ],
   "source": [
    "# Using slicing, extract the year component and the time interval that you specified, \n",
    "# and save them by adding two new columns into the subset. \n",
    "\n",
    "avg_valuation[\"Quarts\"] = avg_valuation[\"Interval\"].str[-2:]\n",
    "##avg_valuation[\"Year Joined\"] = union_df[\"Year\"]\n",
    "\n",
    "order = ['Q1', 'Q2', 'Q3', 'Q4']\n",
    "# Set the size of the plot.\n",
    "plt.figure(figsize = (10,5))\n",
    "\n",
    "\n",
    "\n",
    "# Create a grouped bar plot.\n",
    "sns.barplot(\n",
    "    data = avg_valuation,\n",
    "    x = \"Quarts\",\n",
    "    y = \"Avg Valuation (B)\",\n",
    "    hue = \"Year\",\n",
    "    order = order,\n",
    "    ci = False\n",
    ")\n",
    "\n",
    "\n",
    "\n",
    "# Set the x-axis label.\n",
    "plt.xlabel(\"Quarters\")\n",
    "\n",
    "# Set the y-axis label.\n",
    "plt.ylabel(\"Average Valuation in Billions\")\n",
    "\n",
    "# Set the title.\n",
    "plt.title = (\"Average valuation (B) by Quarters (2020=21)\")\n",
    "\n",
    "# Display the plot.\n",
    "plt.show()\n"
   ]
  },
  {
   "cell_type": "markdown",
   "metadata": {
    "id": "w0EZVbYQp34N",
    "jp-MarkdownHeadingCollapsed": true,
    "tags": []
   },
   "source": [
    "<details>\n",
    "  <summary><h4><strong>Hint 1</strong></h4></summary>\n",
    "\n",
    "Refer to [the content about creating a grouped bar plot](https://www.coursera.org/learn/go-beyond-the-numbers-translate-data-into-insight/lecture/Pf6KW/eda-structuring-with-python).\n",
    "\n",
    "</details>"
   ]
  },
  {
   "cell_type": "markdown",
   "metadata": {
    "id": "IhQ1sDxUp34O",
    "jp-MarkdownHeadingCollapsed": true,
    "tags": []
   },
   "source": [
    "<details>\n",
    "  <summary><h4><strong>Hint 2</strong></h4></summary>\n",
    "\n",
    "Use the function in the `seaborn` library that allows you to create a grouped bar plot, specifying the category and height for each bar, as well as the hue.\n",
    "\n",
    "Use the functions in the `matplotlib.pyplot` module that allow you to set the size, title, x-axis label, and y-axis label of plots. In that module, there is also a function for displaying the plot. \n",
    "\n",
    "</details>"
   ]
  },
  {
   "cell_type": "markdown",
   "metadata": {
    "id": "tH8in0r5p34P",
    "jp-MarkdownHeadingCollapsed": true,
    "tags": []
   },
   "source": [
    "<details>\n",
    "  <summary><h4><strong>Hint 3</strong></h4></summary>\n",
    "\n",
    "Use the `plt.bar()` to create the bar plot, passing in the parameters `x`, `y`, and `hue`. For the task at hand, set `hue` to the column that contains year joined. \n",
    "\n",
    "Use `plt.figure()`, passing in the `figsize` parameter to set the size of a plot.\n",
    "\n",
    "Use `plt.title()`, `plt.xlabel()`, `plt.ylabel()` to set the title, x-axis label, and y-axis label, respectively. \n",
    "\n",
    "Use `plt.show()` to display a plot.\n",
    "\n",
    "</details>"
   ]
  },
  {
   "cell_type": "markdown",
   "metadata": {
    "id": "-JSttrHR4v77"
   },
   "source": [
    "**Question:** What do you observe from the preceding grouped bar plot?\n",
    "\n",
    "  "
   ]
  },
  {
   "cell_type": "markdown",
   "metadata": {
    "id": "tJjbpUeD0GMH"
   },
   "source": [
    "Overall, the valuation of the companies that gained unicorn status in 2020 was higher."
   ]
  },
  {
   "cell_type": "markdown",
   "metadata": {
    "id": "CmStN_ox4wSs"
   },
   "source": [
    "**Question:** Is there any bias in the data that could potentially inform your analysis?\n"
   ]
  },
  {
   "cell_type": "markdown",
   "metadata": {
    "id": "Utbk8TTF0Gji"
   },
   "source": [
    "There are many ways the study can be biased, if some data from certain location or time period is missing, if the data only consists of companies from certain regions of the world.\n",
    "The number of companies from earlier years seemed to be too low, that could be a result of a bias as well, data might not have been recorderd. "
   ]
  },
  {
   "cell_type": "markdown",
   "metadata": {
    "id": "9EsEVdiGF9XP"
   },
   "source": [
    "**Question:** What potential next steps could you take with your EDA?"
   ]
  },
  {
   "cell_type": "markdown",
   "metadata": {
    "id": "nHi73JCn0HrT"
   },
   "source": [
    "We just structured the data and looked into the date joined anf Year founded.\n",
    "Next, we can look into Citi/countryfound in and industries."
   ]
  },
  {
   "cell_type": "markdown",
   "metadata": {
    "id": "9qPL2qMpIF6g"
   },
   "source": [
    "**Question:** Are there any unanswered questions you have about the data? If yes, what are they?\n"
   ]
  },
  {
   "cell_type": "markdown",
   "metadata": {
    "id": "ZQ4jXw1s0H_5"
   },
   "source": []
  },
  {
   "cell_type": "markdown",
   "metadata": {
    "id": "c77e7f0f-d2b9-4464-8a7c-9575d1e1ef9f"
   },
   "source": [
    "## Considerations"
   ]
  },
  {
   "cell_type": "markdown",
   "metadata": {
    "id": "bgpSxNeqL_gK"
   },
   "source": [
    "**What are some key takeaways that you learned from this lab?**"
   ]
  },
  {
   "cell_type": "markdown",
   "metadata": {
    "id": "nh_Uk361MCUM"
   },
   "source": [
    "data structuring using pandas, data visualization/ comparison with matplotlib and seaborn."
   ]
  },
  {
   "cell_type": "markdown",
   "metadata": {
    "id": "7KjAJnO4MDTS"
   },
   "source": [
    "**What findings would you share with others?**"
   ]
  },
  {
   "cell_type": "markdown",
   "metadata": {
    "id": "q4bQAfHzMECg"
   },
   "source": [
    "All the visualizations depict information and that is what i would share. The comparison amongh 2020 and 2021, the covid years."
   ]
  },
  {
   "cell_type": "markdown",
   "metadata": {
    "id": "r5pMz4ZHMEgL"
   },
   "source": [
    "**What recommendations would you share with stakeholders based on these findings?**"
   ]
  },
  {
   "cell_type": "markdown",
   "metadata": {
    "id": "2XrpKf0XMGWD"
   },
   "source": [
    "[Write your response here. Double-click (or enter) to edit.]"
   ]
  },
  {
   "cell_type": "markdown",
   "metadata": {
    "id": "R9sAADZgr-YI"
   },
   "source": [
    "**References**\n",
    "\n",
    "Bhat, M.A. (2022, March).[*Unicorn Companies*](https://www.kaggle.com/datasets/mysarahmadbhat/unicorn-companies). \n",
    "\n"
   ]
  },
  {
   "cell_type": "markdown",
   "metadata": {},
   "source": [
    "**Congratulations!** You've completed this lab. However, you may not notice a green check mark next to this item on Coursera's platform. Please continue your progress regardless of the check mark. Just click on the \"save\" icon at the top of this notebook to ensure your work has been logged."
   ]
  },
  {
   "cell_type": "code",
   "execution_count": null,
   "metadata": {},
   "outputs": [],
   "source": []
  }
 ],
 "metadata": {
  "colab": {
   "collapsed_sections": [],
   "provenance": [
    {
     "file_id": "15yNL9B__b83dWYp4FcjSPvb_EInqHS4J",
     "timestamp": 1660007760492
    }
   ]
  },
  "kernelspec": {
   "display_name": "Python 3",
   "language": "python",
   "name": "python3"
  },
  "language_info": {
   "codemirror_mode": {
    "name": "ipython",
    "version": 3
   },
   "file_extension": ".py",
   "mimetype": "text/x-python",
   "name": "python",
   "nbconvert_exporter": "python",
   "pygments_lexer": "ipython3",
   "version": "3.7.6"
  },
  "toc-autonumbering": false,
  "toc-showtags": false
 },
 "nbformat": 4,
 "nbformat_minor": 5
}
